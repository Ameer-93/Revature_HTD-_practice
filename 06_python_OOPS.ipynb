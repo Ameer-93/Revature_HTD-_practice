{
 "cells": [
  {
   "cell_type": "markdown",
   "id": "8c4bbebd",
   "metadata": {},
   "source": [
    "# TASK: functions are first-class objects in python, why?"
   ]
  },
  {
   "cell_type": "markdown",
   "id": "1d8c879c",
   "metadata": {},
   "source": [
    "##  Classes and Objects\n",
    "Object-Oriented Programming (OOP) is a programming paradigm that uses \"objects\" to design applications and computer programs. OOP allows for modeling real-world scenarios using classes and objects."
   ]
  },
  {
   "cell_type": "markdown",
   "id": "61be7b21",
   "metadata": {},
   "source": [
    "### Custom Classes\n",
    "- Python is an object oriented programming language.\n",
    "- Almost everything in Python is an object, with its properties and methods.\n",
    "- A Class is like an object constructor, or a \"blueprint\" for creating objects."
   ]
  },
  {
   "cell_type": "code",
   "execution_count": null,
   "id": "44daf0e6",
   "metadata": {},
   "outputs": [],
   "source": [
    "\n",
    "class Person:\n",
    "    pass\n",
    "\n"
   ]
  },
  {
   "cell_type": "code",
   "execution_count": 7,
   "id": "626f7a42",
   "metadata": {},
   "outputs": [],
   "source": [
    "# special methods, dunder methods \n",
    "\n",
    "class Rectangle:\n",
    "    def __init__(self, width, height):\n",
    "        self.width = width\n",
    "        self.height = height\n",
    "\n",
    "    def area(self):\n",
    "        return self.width * self.height\n",
    "    \n",
    "    \n",
    "\n",
    "r1 = Rectangle(10, 20)\n",
    "\n",
    "r2 = Rectangle(6, 12)\n"
   ]
  },
  {
   "cell_type": "code",
   "execution_count": 9,
   "id": "3f185255",
   "metadata": {},
   "outputs": [
    {
     "data": {
      "text/plain": [
       "72"
      ]
     },
     "execution_count": 9,
     "metadata": {},
     "output_type": "execute_result"
    }
   ],
   "source": [
    "r2.area()"
   ]
  },
  {
   "cell_type": "code",
   "execution_count": 6,
   "metadata": {},
   "outputs": [
    {
     "data": {
      "text/plain": [
       "6"
      ]
     },
     "execution_count": 6,
     "metadata": {},
     "output_type": "execute_result"
    }
   ],
   "source": [
    "r2.width\n",
    "\n"
   ]
  },
  {
   "cell_type": "markdown",
   "id": "d0647109",
   "metadata": {},
   "source": [
    "We create **instances** of the `Rectangle` class by calling it with arguments that are passed to the `__init__` method as the second and third arguments. The first argument (`self`) is automatically filled in by Python and contains the object being created.\n",
    "\n",
    "Note that using `self` is just a convention (although a good one, and you should use it to make your code more understandable by others), you could really call it whatever (valid) name you choose.\n",
    "\n",
    "But just because you can, does not mean you should!\n"
   ]
  },
  {
   "cell_type": "code",
   "execution_count": 18,
   "id": "d6f5769f",
   "metadata": {},
   "outputs": [
    {
     "data": {
      "text/plain": [
       "72"
      ]
     },
     "execution_count": 18,
     "metadata": {},
     "output_type": "execute_result"
    }
   ],
   "source": [
    "class Rectangle2:\n",
    "    def __init__(referenced_object, width, height):\n",
    "        referenced_object.width = width\n",
    "        referenced_object.height = height\n",
    "   \n",
    "\n",
    "    def area(referenced_object):\n",
    "        return referenced_object.width * referenced_object.height\n",
    "    \n",
    "    def area_exp(self,exp):\n",
    "        print(\"width\", self.width)\n",
    "        print(\"Height\", self.height)\n",
    "        return self.area() ** exp\n",
    "\n",
    "\n",
    "r3 = Rectangle2(10, 20)\n",
    "r4 = Rectangle2(6, 12)\n",
    "\n",
    "r4.area()\n"
   ]
  },
  {
   "cell_type": "code",
   "execution_count": 19,
   "id": "55c7d266",
   "metadata": {},
   "outputs": [
    {
     "name": "stdout",
     "output_type": "stream",
     "text": [
      "width 10\n",
      "Height 20\n"
     ]
    },
    {
     "data": {
      "text/plain": [
       "40000"
      ]
     },
     "execution_count": 19,
     "metadata": {},
     "output_type": "execute_result"
    }
   ],
   "source": [
    "r3.area_exp(2)"
   ]
  },
  {
   "cell_type": "code",
   "execution_count": null,
   "id": "2cb72234",
   "metadata": {},
   "outputs": [],
   "source": [
    "\n",
    "\n",
    "class Person:\n",
    "    def __init__(self, name, age):\n",
    "        self.my_name = name\n",
    "        self.my_age = age\n",
    "\n",
    "    def print_details(self):\n",
    "        return f\"Name is '{self.my_name}' and age is '{self.my_age}'.\"\n"
   ]
  },
  {
   "cell_type": "code",
   "execution_count": 21,
   "id": "3212fc60",
   "metadata": {},
   "outputs": [
    {
     "name": "stdout",
     "output_type": "stream",
     "text": [
      "Name is 'Nik' and age is '24'.\n",
      "Name is 'someone' and age is '22'.\n",
      "Name is 'P3' and age is '99'.\n"
     ]
    }
   ],
   "source": [
    "p1 = Person('Nik', 24)\n",
    "p2 = Person(\"someone\", 22)\n",
    "p3 = Person(\"P3\", 99)\n",
    "\n",
    "\n",
    "print(p1.print_details())\n",
    "print(p2.print_details())\n",
    "print(p3.print_details())\n"
   ]
  },
  {
   "cell_type": "code",
   "execution_count": 25,
   "id": "77e26383",
   "metadata": {},
   "outputs": [
    {
     "name": "stdout",
     "output_type": "stream",
     "text": [
      "<__main__.Rectangle2 object at 0x000001BB77B432D0>\n"
     ]
    }
   ],
   "source": [
    "print(r1)"
   ]
  },
  {
   "cell_type": "code",
   "execution_count": null,
   "id": "55fa88cc",
   "metadata": {},
   "outputs": [
    {
     "data": {
      "text/plain": [
       "10"
      ]
     },
     "execution_count": 26,
     "metadata": {},
     "output_type": "execute_result"
    }
   ],
   "source": [
    "r1.width\n"
   ]
  },
  {
   "cell_type": "code",
   "execution_count": 27,
   "id": "7cde3ed3",
   "metadata": {},
   "outputs": [
    {
     "data": {
      "text/plain": [
       "200"
      ]
     },
     "execution_count": 27,
     "metadata": {},
     "output_type": "execute_result"
    }
   ],
   "source": [
    "r1.area()"
   ]
  },
  {
   "cell_type": "markdown",
   "id": "d862ed30",
   "metadata": {},
   "source": [
    "`width` and `height` are attributes of the `Rectangle` class. But since they are just values (not callables), we call them **properties**.\n",
    "\n",
    "Attributes that are callables are called **methods**.\n",
    "\n",
    "You'll note that we were able to retrieve the `width` and `height` attributes (properties) using a dot notation, where we specify the object we are interested in, then a dot, then the attribute we are interested in.\n",
    "\n",
    "\n",
    "We can add callable attributes to our class (methods), that will also be referenced using the dot notation.\n",
    "Again, we will create instance methods, which means the method will require the first argument to be the object being used when the method is called.\n"
   ]
  },
  {
   "cell_type": "code",
   "execution_count": 31,
   "id": "36534141",
   "metadata": {},
   "outputs": [],
   "source": [
    "class Rectangle:\n",
    "    def __init__(self, width = 0, height = 0):\n",
    "        self.width = width\n",
    "        self.height = height\n",
    "        \n",
    "    def area(self):\n",
    "        return (self.width * self.height)\n",
    "    \n",
    "    def perimeter(the_referenced_object):\n",
    "        return 2 * (the_referenced_object.width + the_referenced_object.height)\n",
    "\n",
    "    def details(self):\n",
    "        return f\"...\"\n",
    "    \n",
    "\n",
    "r1 = Rectangle()"
   ]
  },
  {
   "cell_type": "code",
   "execution_count": 34,
   "id": "f8b84f1e",
   "metadata": {},
   "outputs": [
    {
     "data": {
      "text/plain": [
       "0"
      ]
     },
     "execution_count": 34,
     "metadata": {},
     "output_type": "execute_result"
    }
   ],
   "source": [
    "r1.height"
   ]
  },
  {
   "cell_type": "markdown",
   "id": "c3f793a3",
   "metadata": {},
   "source": [
    "Python defines a bunch of **special** methods that we can use to give our classes functionality that resembles functionality of built-in and standard library objects.\n",
    "\n",
    "These **special** methods provide us an easy way to overload operators in Python."
   ]
  },
  {
   "cell_type": "code",
   "execution_count": 40,
   "id": "3b9fd90c",
   "metadata": {},
   "outputs": [
    {
     "ename": "TypeError",
     "evalue": "'<' not supported between instances of 'Rectangle' and 'Rectangle'",
     "output_type": "error",
     "traceback": [
      "\u001b[31m---------------------------------------------------------------------------\u001b[39m",
      "\u001b[31mTypeError\u001b[39m                                 Traceback (most recent call last)",
      "\u001b[36mCell\u001b[39m\u001b[36m \u001b[39m\u001b[32mIn[40]\u001b[39m\u001b[32m, line 4\u001b[39m\n\u001b[32m      1\u001b[39m r1 = Rectangle(\u001b[32m10\u001b[39m, \u001b[32m20\u001b[39m)\n\u001b[32m      2\u001b[39m r2 = Rectangle(\u001b[32m11\u001b[39m, \u001b[32m22\u001b[39m)\n\u001b[32m----> \u001b[39m\u001b[32m4\u001b[39m \u001b[43mr1\u001b[49m\u001b[43m \u001b[49m\u001b[43m<\u001b[49m\u001b[43m \u001b[49m\u001b[43mr2\u001b[49m\n",
      "\u001b[31mTypeError\u001b[39m: '<' not supported between instances of 'Rectangle' and 'Rectangle'"
     ]
    }
   ],
   "source": [
    "r1 = Rectangle(10, 20)\n",
    "r2 = Rectangle(11, 22)\n",
    "\n",
    "r1 < r2"
   ]
  },
  {
   "cell_type": "code",
   "execution_count": 36,
   "id": "64f14009",
   "metadata": {},
   "outputs": [
    {
     "data": {
      "text/plain": [
       "True"
      ]
     },
     "execution_count": 36,
     "metadata": {},
     "output_type": "execute_result"
    }
   ],
   "source": [
    "3 > 2"
   ]
  },
  {
   "cell_type": "code",
   "execution_count": 44,
   "id": "f7af7f38",
   "metadata": {},
   "outputs": [
    {
     "data": {
      "text/plain": [
       "'79'"
      ]
     },
     "execution_count": 44,
     "metadata": {},
     "output_type": "execute_result"
    }
   ],
   "source": [
    "str(79)"
   ]
  },
  {
   "cell_type": "code",
   "execution_count": null,
   "id": "d4beb21a",
   "metadata": {},
   "outputs": [
    {
     "data": {
      "text/plain": [
       "\"<class '__main__.Rectangle'>\""
      ]
     },
     "execution_count": 43,
     "metadata": {},
     "output_type": "execute_result"
    }
   ],
   "source": [
    "str(Rectangle)\n",
    "# not something that we were expecting, but how is python supposed to know how to display our rectangle as a string?\n"
   ]
  },
  {
   "cell_type": "code",
   "execution_count": 47,
   "id": "4e04ddb8",
   "metadata": {},
   "outputs": [
    {
     "data": {
      "text/plain": [
       "'Rectangle (width = 9, height = 18)'"
      ]
     },
     "execution_count": 47,
     "metadata": {},
     "output_type": "execute_result"
    }
   ],
   "source": [
    "\n",
    "class Rectangle:\n",
    "    def __init__(self, width, height):\n",
    "        self.width = width\n",
    "        self.height = height\n",
    "        \n",
    "    def area(self):\n",
    "        return self.width * self.height\n",
    "    \n",
    "    def perimeter(self):\n",
    "        return 2 * (self.width + self.height)\n",
    "    \n",
    "    def to_str(self):\n",
    "        return f'Rectangle (width = {self.width}, height = {self.height})'\n",
    "\n",
    "\n",
    "r1 = Rectangle(9, 18)\n",
    "\n",
    "r1.to_str()\n"
   ]
  },
  {
   "cell_type": "code",
   "execution_count": 49,
   "id": "9029e1f0",
   "metadata": {},
   "outputs": [
    {
     "name": "stdout",
     "output_type": "stream",
     "text": [
      "<__main__.Rectangle object at 0x000001BB78261AD0>\n",
      "Rectangle (width = 9, height = 18)\n"
     ]
    }
   ],
   "source": [
    "print(r1)\n",
    "print(r1.to_str())"
   ]
  },
  {
   "cell_type": "markdown",
   "id": "3dd2a0fa",
   "metadata": {},
   "source": [
    "if we follow the above approach (to_str()), anyone who writes a class in Python will need to provide some method to do this, and probably come up with their own name for the method too, maybe `to_str`, `make_string`, `stringify`, and who knows what else.\n",
    "\n",
    "Fortunately, this is where these special methods come in. When we call `str(r1)`, Python will first look to see if our class (`Rectangle`) has a special method called `__str__`.\n",
    "\n",
    "There's actually another one called `__repr__` which is related, but we'll just focus on `__str__` for now.\n"
   ]
  },
  {
   "cell_type": "code",
   "execution_count": 65,
   "id": "97424179",
   "metadata": {},
   "outputs": [
    {
     "name": "stdout",
     "output_type": "stream",
     "text": [
      "Rectangle (width = 5, height = 10)\n"
     ]
    }
   ],
   "source": [
    "class Rectangle:\n",
    "    def __init__(self, width, height):\n",
    "        self.width = width\n",
    "        self.height = height\n",
    "        \n",
    "    def area(self):\n",
    "        return self.width * self.height\n",
    "    \n",
    "    def perimeter(self):\n",
    "        return 2 * (self.width + self.height)\n",
    "    \n",
    "    def __str__(self):\n",
    "        return f'Rectangle (width = {self.width}, height = {self.height})'\n",
    "    \n",
    "    def __repr__(self):\n",
    "        return f'Rectangle (width = {self.width}, height = {self.height})'\n",
    "\n",
    "\n",
    "r1 = Rectangle(5,10)  \n",
    "r2 = Rectangle(5,10)  \n",
    "print(r1)\n",
    "\n"
   ]
  },
  {
   "cell_type": "code",
   "execution_count": null,
   "id": "5160995d",
   "metadata": {},
   "outputs": [
    {
     "data": {
      "text/plain": [
       "False"
      ]
     },
     "execution_count": 66,
     "metadata": {},
     "output_type": "execute_result"
    }
   ],
   "source": []
  },
  {
   "cell_type": "code",
   "execution_count": 54,
   "id": "c67a2bfc",
   "metadata": {},
   "outputs": [
    {
     "data": {
      "text/plain": [
       "'Rectangle (width = 5, height = 10)'"
      ]
     },
     "execution_count": 54,
     "metadata": {},
     "output_type": "execute_result"
    }
   ],
   "source": [
    "str(r1)"
   ]
  },
  {
   "cell_type": "markdown",
   "id": "6702ea45",
   "metadata": {},
   "source": [
    "When working in the interactive console or Jupyter notebook environment, Python is not converting `r1` to a string, but instead looking for a string *representation* of the object. It is looking for the `__repr__` method."
   ]
  },
  {
   "cell_type": "code",
   "execution_count": 55,
   "id": "c3b6532e",
   "metadata": {},
   "outputs": [
    {
     "data": {
      "text/plain": [
       "Rectangle (width = 5, height = 10)"
      ]
     },
     "execution_count": 55,
     "metadata": {},
     "output_type": "execute_result"
    }
   ],
   "source": [
    "r1"
   ]
  },
  {
   "cell_type": "code",
   "execution_count": 58,
   "id": "3556d591",
   "metadata": {},
   "outputs": [
    {
     "name": "stdout",
     "output_type": "stream",
     "text": [
      "yes\n"
     ]
    }
   ],
   "source": [
    "if isinstance(1.9, float):\n",
    "    print(\"yes\")\n",
    "else:\n",
    "    print(\"no\")"
   ]
  },
  {
   "cell_type": "code",
   "execution_count": 59,
   "id": "39fb7867",
   "metadata": {},
   "outputs": [
    {
     "data": {
      "text/plain": [
       "True"
      ]
     },
     "execution_count": 59,
     "metadata": {},
     "output_type": "execute_result"
    }
   ],
   "source": [
    "(1, 3) == (1, 3)"
   ]
  },
  {
   "cell_type": "code",
   "execution_count": 60,
   "id": "65772496",
   "metadata": {},
   "outputs": [
    {
     "data": {
      "text/plain": [
       "False"
      ]
     },
     "execution_count": 60,
     "metadata": {},
     "output_type": "execute_result"
    }
   ],
   "source": [
    "(1, 3) == (1, 4)"
   ]
  },
  {
   "cell_type": "code",
   "execution_count": 62,
   "id": "b9d0b40b",
   "metadata": {},
   "outputs": [
    {
     "data": {
      "text/plain": [
       "False"
      ]
     },
     "execution_count": 62,
     "metadata": {},
     "output_type": "execute_result"
    }
   ],
   "source": [
    "r1 == r2"
   ]
  },
  {
   "cell_type": "code",
   "execution_count": 73,
   "id": "b2cf405c",
   "metadata": {},
   "outputs": [
    {
     "name": "stdout",
     "output_type": "stream",
     "text": [
      "Rectangle (width = 5, height = 10)\n"
     ]
    }
   ],
   "source": [
    "class Rectangle:\n",
    "    def __init__(self, width, height):\n",
    "        self.width = width\n",
    "        self.height = height\n",
    "        \n",
    "    def area(self):\n",
    "        return self.width * self.height\n",
    "    \n",
    "    def perimeter(self):\n",
    "        return 2 * (self.width + self.height)\n",
    "    \n",
    "    def __str__(self):\n",
    "        return f'Rectangle (width = {self.width}, height = {self.height})'\n",
    "    \n",
    "    def __repr__(self):\n",
    "        return f'Rectangle (width = {self.width}, height = {self.height})'\n",
    "    \n",
    "    def __eq__(self, other):\n",
    "        print(f\"self = {self},\\nother = {other}\")\n",
    "\n",
    "        if isinstance(other, Rectangle):\n",
    "            return (self.width, self.height) == (other.width, other.height)\n",
    "        else:\n",
    "            False\n",
    "\n",
    "r1 = Rectangle(5,10)  \n",
    "r2 = Rectangle(5,10)  \n",
    "print(r1)\n",
    "\n"
   ]
  },
  {
   "cell_type": "code",
   "execution_count": 74,
   "id": "d7ec8c1c",
   "metadata": {},
   "outputs": [
    {
     "name": "stdout",
     "output_type": "stream",
     "text": [
      "self = Rectangle (width = 5, height = 10),\n",
      "other = Rectangle (width = 5, height = 10)\n"
     ]
    },
    {
     "data": {
      "text/plain": [
       "True"
      ]
     },
     "execution_count": 74,
     "metadata": {},
     "output_type": "execute_result"
    }
   ],
   "source": [
    "r1 == r2"
   ]
  },
  {
   "cell_type": "code",
   "execution_count": 70,
   "id": "7f356732",
   "metadata": {},
   "outputs": [
    {
     "data": {
      "text/plain": [
       "True"
      ]
     },
     "execution_count": 70,
     "metadata": {},
     "output_type": "execute_result"
    }
   ],
   "source": [
    "(5,10) == (5,10)"
   ]
  },
  {
   "cell_type": "code",
   "execution_count": null,
   "id": "2d6eeb0f",
   "metadata": {},
   "outputs": [],
   "source": [
    "# __lt__, __gt__, __le__, etc.."
   ]
  },
  {
   "cell_type": "markdown",
   "id": "129630da",
   "metadata": {},
   "source": [
    "---"
   ]
  },
  {
   "cell_type": "code",
   "execution_count": 76,
   "id": "e4a46293",
   "metadata": {},
   "outputs": [
    {
     "data": {
      "text/plain": [
       "15"
      ]
     },
     "execution_count": 76,
     "metadata": {},
     "output_type": "execute_result"
    }
   ],
   "source": [
    "## Scenarios where you'd pass variables directly to method calls rather than storing them as instance attributes:\n",
    "\n",
    "## 1.Temporary Operations/Calculations\n",
    "\n",
    "class Calculator:\n",
    "    def __init__(self, base_value):\n",
    "        self.base_value = base_value\n",
    "    \n",
    "    def add(self, number):  # 'number' is temporary, not stored\n",
    "        return self.base_value + number\n",
    "\n",
    "calc = Calculator(10)\n",
    "result = calc.add(5)  # Pass 5 directly - we don't need to store it\n",
    "result"
   ]
  },
  {
   "cell_type": "code",
   "execution_count": null,
   "id": "abfa7fa3",
   "metadata": {},
   "outputs": [
    {
     "data": {
      "text/plain": [
       "'Withdrew $50'"
      ]
     },
     "execution_count": 77,
     "metadata": {},
     "output_type": "execute_result"
    }
   ],
   "source": [
    "# User Input/Interactive Parameters\n",
    "\n",
    "class BankAccount:\n",
    "    def __init__(self, balance):\n",
    "        self.balance = balance\n",
    "    \n",
    "    def withdraw(self, amount):  # Amount varies with each transaction\n",
    "        if amount <= self.balance:\n",
    "            self.balance -= amount\n",
    "            return f\"Withdrew ${amount}\"\n",
    "        return \"Insufficient funds\"\n",
    "\n",
    "account = BankAccount(1000)\n",
    "print(account.withdraw(100))  # Different amount each time\n",
    "print(account.withdraw(50))"
   ]
  },
  {
   "cell_type": "markdown",
   "id": "e5789ba1",
   "metadata": {},
   "source": [
    "## **When to Store vs. Pass Directly**\n",
    "\n",
    "**Store as instance attributes when:**\n",
    "- The value is part of the object's core state\n",
    "- You'll reuse it across multiple method calls\n",
    "- It defines the object's identity or configuration\n",
    "\n",
    "**Pass directly to methods when:**\n",
    "- The value is operation-specific\n",
    "- It changes frequently\n",
    "- It's external input or temporary data\n",
    "- You want the method to be more flexible and reusable\n",
    "\n",
    "The key principle is that instance attributes should represent the object's persistent state, while method parameters should handle variable inputs and operation-specific data."
   ]
  },
  {
   "cell_type": "code",
   "execution_count": null,
   "id": "c021be75",
   "metadata": {},
   "outputs": [
    {
     "name": "stdout",
     "output_type": "stream",
     "text": [
      "Version 2\n"
     ]
    }
   ],
   "source": [
    "class Car:\n",
    "    def __init__(self, windows):\n",
    "        self.windows = windows\n",
    "        print(\"Version 1\")\n",
    "\n",
    "    def __init__(self, windows, doors):\n",
    "        self.windows = windows\n",
    "        self.doors = doors\n",
    "        print(\"Version 2\")\n",
    "\n",
    "audi = Car(4,2)\n",
    "\n"
   ]
  },
  {
   "cell_type": "code",
   "execution_count": null,
   "id": "86a01929",
   "metadata": {},
   "outputs": [],
   "source": []
  }
 ],
 "metadata": {
  "kernelspec": {
   "display_name": "Python 3",
   "language": "python",
   "name": "python3"
  },
  "language_info": {
   "codemirror_mode": {
    "name": "ipython",
    "version": 3
   },
   "file_extension": ".py",
   "mimetype": "text/x-python",
   "name": "python",
   "nbconvert_exporter": "python",
   "pygments_lexer": "ipython3",
   "version": "3.11.11"
  }
 },
 "nbformat": 4,
 "nbformat_minor": 5
}
