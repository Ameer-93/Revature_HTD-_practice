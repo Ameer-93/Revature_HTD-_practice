{
  "cells": [
    {
      "cell_type": "code",
      "execution_count": 2,
      "metadata": {},
      "outputs": [
        {
          "data": {
            "text/plain": [
              "''"
            ]
          },
          "execution_count": 2,
          "metadata": {},
          "output_type": "execute_result"
        }
      ],
      "source": [
        "input(\"Enter your name: \")"
      ]
    },
    {
      "cell_type": "code",
      "execution_count": null,
      "metadata": {},
      "outputs": [],
      "source": []
    },
    {
      "cell_type": "code",
      "execution_count": null,
      "metadata": {},
      "outputs": [],
      "source": []
    },
    {
      "cell_type": "code",
      "execution_count": null,
      "metadata": {},
      "outputs": [],
      "source": []
    },
    {
      "cell_type": "markdown",
      "metadata": {
        "id": "6t6Ay-i0Q0hr"
      },
      "source": [
        "#### Introduction To Lists\n",
        "- Lists are ordered, mutable collections of items.\n",
        "- They can contain items of different data types."
      ]
    },
    {
      "cell_type": "code",
      "execution_count": 1,
      "metadata": {
        "colab": {
          "base_uri": "https://localhost:8080/"
        },
        "id": "JSR9KfbqPUxb",
        "outputId": "29ae3082-330a-4981-a270-18047d52d7f5"
      },
      "outputs": [
        {
          "data": {
            "text/plain": [
              "list"
            ]
          },
          "execution_count": 1,
          "metadata": {},
          "output_type": "execute_result"
        }
      ],
      "source": [
        "l = [1,2,3,4, 5.5, True, 'string..']\n",
        "\n",
        "type(l)"
      ]
    },
    {
      "cell_type": "code",
      "execution_count": 3,
      "metadata": {
        "id": "GmfMwR4HQ9v0"
      },
      "outputs": [],
      "source": [
        "l[4] = 'new element'"
      ]
    },
    {
      "cell_type": "code",
      "execution_count": 4,
      "metadata": {
        "colab": {
          "base_uri": "https://localhost:8080/"
        },
        "id": "lqyOPpv-REPv",
        "outputId": "7dacf879-d42a-40c8-f73c-46cf34fd52be"
      },
      "outputs": [
        {
          "data": {
            "text/plain": [
              "[1, 2, 3, 4, 'new element', True, 'string..']"
            ]
          },
          "execution_count": 4,
          "metadata": {},
          "output_type": "execute_result"
        }
      ],
      "source": [
        "l"
      ]
    },
    {
      "cell_type": "code",
      "execution_count": 6,
      "metadata": {
        "colab": {
          "base_uri": "https://localhost:8080/"
        },
        "id": "y36N2UMXRIId",
        "outputId": "efc94118-6a9f-4db5-c81f-ecb4f1cb587f"
      },
      "outputs": [
        {
          "name": "stdout",
          "output_type": "stream",
          "text": [
            "['Nikhil', 'Jack', 'Jacob', 1, 2, 3, 4, 5.4]\n"
          ]
        }
      ],
      "source": [
        "names=[\"Nikhil\",\"Jack\",\"Jacob\",1,2,3,4,5.4]\n",
        "print(names)"
      ]
    },
    {
      "cell_type": "code",
      "execution_count": 7,
      "metadata": {
        "colab": {
          "base_uri": "https://localhost:8080/"
        },
        "id": "5_LGPn35RMbI",
        "outputId": "0561ba78-4fe8-4405-fc6a-94e8c5985d38"
      },
      "outputs": [
        {
          "name": "stdout",
          "output_type": "stream",
          "text": [
            "apple\n",
            "cherry\n",
            "gauva\n"
          ]
        }
      ],
      "source": [
        "fruits=[\"apple\",\"banana\",\"cherry\",\"kiwi\",\"gauva\"]\n",
        "print(fruits[0])\n",
        "print(fruits[2])\n",
        "print(fruits[4])\n"
      ]
    },
    {
      "cell_type": "code",
      "execution_count": 8,
      "metadata": {
        "colab": {
          "base_uri": "https://localhost:8080/"
        },
        "id": "jqoPdcx_RT7Q",
        "outputId": "99140158-0521-4ed6-cd94-1fb4c0c626ff"
      },
      "outputs": [
        {
          "name": "stdout",
          "output_type": "stream",
          "text": [
            "kiwi\n"
          ]
        }
      ],
      "source": [
        "print(fruits[-2])"
      ]
    },
    {
      "cell_type": "code",
      "execution_count": 9,
      "metadata": {
        "colab": {
          "base_uri": "https://localhost:8080/"
        },
        "id": "M8ZzQZ3sRY-c",
        "outputId": "3e62c859-ae5b-4973-c10a-07edad0a2fb6"
      },
      "outputs": [
        {
          "data": {
            "text/plain": [
              "['banana', 'cherry', 'kiwi']"
            ]
          },
          "execution_count": 9,
          "metadata": {},
          "output_type": "execute_result"
        }
      ],
      "source": [
        "fruits[1:4]"
      ]
    },
    {
      "cell_type": "code",
      "execution_count": 10,
      "metadata": {
        "colab": {
          "base_uri": "https://localhost:8080/"
        },
        "id": "Q9wMrX0-RijE",
        "outputId": "98d8499b-e4ce-4ed0-efc5-d007b011ba4f"
      },
      "outputs": [
        {
          "data": {
            "text/plain": [
              "['apple', 'banana', 'cherry', 'kiwi', 'gauva']"
            ]
          },
          "execution_count": 10,
          "metadata": {},
          "output_type": "execute_result"
        }
      ],
      "source": [
        "fruits[::]"
      ]
    },
    {
      "cell_type": "code",
      "execution_count": 11,
      "metadata": {
        "colab": {
          "base_uri": "https://localhost:8080/"
        },
        "id": "btwGmxloRmL3",
        "outputId": "b17b9e37-b05e-4bd6-e651-1843b5ec6ce1"
      },
      "outputs": [
        {
          "data": {
            "text/plain": [
              "['gauva', 'kiwi', 'cherry', 'banana', 'apple']"
            ]
          },
          "execution_count": 11,
          "metadata": {},
          "output_type": "execute_result"
        }
      ],
      "source": [
        "fruits[::-1]"
      ]
    },
    {
      "cell_type": "code",
      "execution_count": 12,
      "metadata": {
        "colab": {
          "base_uri": "https://localhost:8080/"
        },
        "id": "t3-xT5GKRrmf",
        "outputId": "4137b077-d219-453c-ea3e-1c09c15f6a4e"
      },
      "outputs": [
        {
          "name": "stdout",
          "output_type": "stream",
          "text": [
            "['apple', 'watermelon', 'cherry', 'kiwi', 'gauva']\n"
          ]
        }
      ],
      "source": [
        "fruits[1]=\"watermelon\"\n",
        "print(fruits)"
      ]
    },
    {
      "cell_type": "markdown",
      "metadata": {
        "id": "9HKVamknR0Qf"
      },
      "source": [
        "## List Methods\n",
        "\n",
        "Python has a set of built-in methods that you can use on lists.\n",
        "\n",
        "| Method      | Description                                      |\n",
        "|-------------|--------------------------------------------------|\n",
        "| `append()`  | Adds an element at the end of the list           |\n",
        "| `clear()`   | Removes all the elements from the list           |\n",
        "| `copy()`    | Returns a copy of the list                       |\n",
        "| `count()`   | Returns the number of elements with the specified value |\n",
        "| `extend()`  | Add the elements of a list (or any iterable), to the end of the current list |\n",
        "| `index()`   | Returns the index of the first element with the specified value |\n",
        "| `insert()`  | Adds an element at the specified position        |\n",
        "| `pop()`     | Removes the element at the specified position    |\n",
        "| `remove()`  | Removes the item with the specified value        |\n",
        "| `reverse()` | Reverses the order of the list                   |\n",
        "| `sort()`    | Sorts the list                                   |"
      ]
    },
    {
      "cell_type": "code",
      "execution_count": 13,
      "metadata": {
        "colab": {
          "base_uri": "https://localhost:8080/"
        },
        "id": "eCeppxoYRyGf",
        "outputId": "18e4bdc2-596b-41e9-bb4f-78adb00072ab"
      },
      "outputs": [
        {
          "name": "stdout",
          "output_type": "stream",
          "text": [
            "['apple', 'banana', 'cherry', 'kiwi', 'gauva']\n"
          ]
        }
      ],
      "source": [
        "fruits=[\"apple\",\"banana\",\"cherry\",\"kiwi\",\"gauva\"]\n",
        "print(fruits)\n"
      ]
    },
    {
      "cell_type": "code",
      "execution_count": 14,
      "metadata": {
        "colab": {
          "base_uri": "https://localhost:8080/"
        },
        "id": "fEKFRvYKR7V2",
        "outputId": "690f2450-9484-4f86-a504-8bd22547af78"
      },
      "outputs": [
        {
          "name": "stdout",
          "output_type": "stream",
          "text": [
            "['apple', 'banana', 'cherry', 'kiwi', 'gauva', 'orange']\n"
          ]
        }
      ],
      "source": [
        "fruits.append(\"orange\") ## Add an item to the end\n",
        "print(fruits)"
      ]
    },
    {
      "cell_type": "code",
      "execution_count": 15,
      "metadata": {
        "colab": {
          "base_uri": "https://localhost:8080/"
        },
        "id": "ao8wYVR7R-IZ",
        "outputId": "a93e6497-55eb-495e-e59f-a179ba05887d"
      },
      "outputs": [
        {
          "name": "stdout",
          "output_type": "stream",
          "text": [
            "['apple', 'banana', 'watermelon', 'cherry', 'kiwi', 'gauva', 'orange']\n"
          ]
        }
      ],
      "source": [
        "fruits.insert(2, \"watermelon\")\n",
        "print(fruits)"
      ]
    },
    {
      "cell_type": "code",
      "execution_count": 16,
      "metadata": {
        "colab": {
          "base_uri": "https://localhost:8080/"
        },
        "id": "CYADRKURSLVj",
        "outputId": "b60fee24-be7e-4db1-ac0d-89cb7cff25c5"
      },
      "outputs": [
        {
          "data": {
            "text/plain": [
              "['apple', 'banana', 'watermelon', 'cherry', 'kiwi', 'gauva', 'orange', 'apple']"
            ]
          },
          "execution_count": 16,
          "metadata": {},
          "output_type": "execute_result"
        }
      ],
      "source": [
        "fruits.append(\"apple\")\n",
        "fruits"
      ]
    },
    {
      "cell_type": "code",
      "execution_count": 18,
      "metadata": {
        "colab": {
          "base_uri": "https://localhost:8080/",
          "height": 158
        },
        "id": "l_fIMDPVSWuR",
        "outputId": "cbf0bca5-fcb7-4e75-cee4-d3a1a5d4a436"
      },
      "outputs": [
        {
          "ename": "ValueError",
          "evalue": "list.remove(x): x not in list",
          "output_type": "error",
          "traceback": [
            "\u001b[0;31m---------------------------------------------------------------------------\u001b[0m",
            "\u001b[0;31mValueError\u001b[0m                                Traceback (most recent call last)",
            "\u001b[0;32m/tmp/ipython-input-18-694967920.py\u001b[0m in \u001b[0;36m<cell line: 0>\u001b[0;34m()\u001b[0m\n\u001b[0;32m----> 1\u001b[0;31m \u001b[0mfruits\u001b[0m\u001b[0;34m.\u001b[0m\u001b[0mremove\u001b[0m\u001b[0;34m(\u001b[0m\u001b[0;34m\"____apple\"\u001b[0m\u001b[0;34m)\u001b[0m \u001b[0;31m## Removing the first occurrence of an item\u001b[0m\u001b[0;34m\u001b[0m\u001b[0;34m\u001b[0m\u001b[0m\n\u001b[0m\u001b[1;32m      2\u001b[0m \u001b[0mprint\u001b[0m\u001b[0;34m(\u001b[0m\u001b[0mfruits\u001b[0m\u001b[0;34m)\u001b[0m\u001b[0;34m\u001b[0m\u001b[0;34m\u001b[0m\u001b[0m\n",
            "\u001b[0;31mValueError\u001b[0m: list.remove(x): x not in list"
          ]
        }
      ],
      "source": [
        "fruits.remove(\"__apple\") ## Removing the first occurrence of an item\n",
        "print(fruits)"
      ]
    },
    {
      "cell_type": "code",
      "execution_count": 20,
      "metadata": {
        "colab": {
          "base_uri": "https://localhost:8080/"
        },
        "id": "UCCxgnCHSbQT",
        "outputId": "9739c6b1-321f-4ecf-e564-c6bedcc690d6"
      },
      "outputs": [
        {
          "name": "stdout",
          "output_type": "stream",
          "text": [
            "apple\n"
          ]
        }
      ],
      "source": [
        "last_fruit = fruits.pop()\n",
        "print(last_fruit)"
      ]
    },
    {
      "cell_type": "code",
      "execution_count": 21,
      "metadata": {
        "colab": {
          "base_uri": "https://localhost:8080/"
        },
        "id": "2OOio8r8TBTj",
        "outputId": "91a58318-e536-4dcb-ed4f-13bde653aa9e"
      },
      "outputs": [
        {
          "data": {
            "text/plain": [
              "['banana', 'watermelon', 'cherry', 'kiwi', 'gauva', 'orange', 'cherry']"
            ]
          },
          "execution_count": 21,
          "metadata": {},
          "output_type": "execute_result"
        }
      ],
      "source": [
        "fruits.append('cherry')\n",
        "fruits"
      ]
    },
    {
      "cell_type": "code",
      "execution_count": 22,
      "metadata": {
        "colab": {
          "base_uri": "https://localhost:8080/"
        },
        "id": "bA1ScM-RSv56",
        "outputId": "cada1b6b-04e7-44dd-939d-a22c53ba02a2"
      },
      "outputs": [
        {
          "name": "stdout",
          "output_type": "stream",
          "text": [
            "2\n"
          ]
        }
      ],
      "source": [
        "\n",
        "index=fruits.index(\"cherry\")\n",
        "print(index)"
      ]
    },
    {
      "cell_type": "code",
      "execution_count": 25,
      "metadata": {
        "colab": {
          "base_uri": "https://localhost:8080/"
        },
        "id": "y1rsigN3TFG3",
        "outputId": "677aab2c-5c36-4846-a744-a681df0ce110"
      },
      "outputs": [
        {
          "data": {
            "text/plain": [
              "['watermelon', 'orange', 'kiwi', 'gauva', 'cherry', 'cherry', 'banana']"
            ]
          },
          "execution_count": 25,
          "metadata": {},
          "output_type": "execute_result"
        }
      ],
      "source": [
        "fruits.sort(reverse=True)\n",
        "fruits"
      ]
    },
    {
      "cell_type": "code",
      "execution_count": 26,
      "metadata": {
        "colab": {
          "base_uri": "https://localhost:8080/"
        },
        "id": "yKY1M_DVTL_a",
        "outputId": "0fed1cb1-657b-4aed-8996-9604b8de7688"
      },
      "outputs": [
        {
          "name": "stdout",
          "output_type": "stream",
          "text": [
            "[]\n"
          ]
        }
      ],
      "source": [
        "fruits.clear() ## Remove all items from the list\n",
        "\n",
        "print(fruits)"
      ]
    },
    {
      "cell_type": "code",
      "execution_count": 27,
      "metadata": {
        "colab": {
          "base_uri": "https://localhost:8080/"
        },
        "id": "9S4aMurtTYXk",
        "outputId": "9b90416d-1908-4445-a9aa-55aff65a8067"
      },
      "outputs": [
        {
          "name": "stdout",
          "output_type": "stream",
          "text": [
            "[3, 4, 5]\n",
            "[1, 2, 3, 4, 5]\n",
            "[6, 7, 8, 9, 10]\n"
          ]
        }
      ],
      "source": [
        "## Slicing List\n",
        "numbers = [1, 2, 3, 4, 5, 6, 7, 8, 9, 10]\n",
        "print(numbers[2:5])\n",
        "print(numbers[:5])\n",
        "print(numbers[5:])"
      ]
    },
    {
      "cell_type": "code",
      "execution_count": 28,
      "metadata": {
        "colab": {
          "base_uri": "https://localhost:8080/"
        },
        "id": "xajE_PhzTuLA",
        "outputId": "991b2e52-3063-4707-cb49-9152b58524d6"
      },
      "outputs": [
        {
          "name": "stdout",
          "output_type": "stream",
          "text": [
            "[1, 3, 5, 7, 9]\n"
          ]
        }
      ],
      "source": [
        "# print(numbers[start:stop:step])\n",
        "print(numbers[::2])"
      ]
    },
    {
      "cell_type": "code",
      "execution_count": 29,
      "metadata": {
        "colab": {
          "base_uri": "https://localhost:8080/"
        },
        "id": "gsnoGIOPTwvV",
        "outputId": "6cfbc2a9-feda-4db9-c44e-c3e932e2bba8"
      },
      "outputs": [
        {
          "name": "stdout",
          "output_type": "stream",
          "text": [
            "1\n",
            "2\n",
            "3\n",
            "4\n",
            "5\n",
            "6\n",
            "7\n",
            "8\n",
            "9\n",
            "10\n"
          ]
        }
      ],
      "source": [
        "for i in numbers:\n",
        "    print(i)"
      ]
    },
    {
      "cell_type": "code",
      "execution_count": 30,
      "metadata": {
        "colab": {
          "base_uri": "https://localhost:8080/"
        },
        "id": "ZtXltopcTy8K",
        "outputId": "ca6c1082-0e34-4e04-fa65-385008f5a9f8"
      },
      "outputs": [
        {
          "name": "stdout",
          "output_type": "stream",
          "text": [
            "['apple', 'banana', 'cherry', 'kiwi', 'gauva']\n"
          ]
        }
      ],
      "source": [
        "fruits=[\"apple\",\"banana\",\"cherry\",\"kiwi\",\"gauva\"]\n",
        "print(fruits)"
      ]
    },
    {
      "cell_type": "code",
      "execution_count": null,
      "metadata": {
        "id": "v5tmbjpBT5U9"
      },
      "outputs": [],
      "source": [
        "\"\"\"\n",
        "1. apple\n",
        "2. banana\n",
        "3. ...\n",
        "\"\"\""
      ]
    },
    {
      "cell_type": "code",
      "execution_count": 31,
      "metadata": {
        "colab": {
          "base_uri": "https://localhost:8080/"
        },
        "id": "BOeZlKTMUCa2",
        "outputId": "982c7dc2-00ea-4848-8af5-f5ebde6951ab"
      },
      "outputs": [
        {
          "name": "stdout",
          "output_type": "stream",
          "text": [
            "1 apple\n",
            "2 banana\n",
            "3 cherry\n",
            "4 kiwi\n",
            "5 gauva\n"
          ]
        }
      ],
      "source": [
        "counter = 1\n",
        "for fruit in fruits:\n",
        "    print(counter, fruit)\n",
        "    counter += 1"
      ]
    },
    {
      "cell_type": "code",
      "execution_count": 34,
      "metadata": {
        "colab": {
          "base_uri": "https://localhost:8080/"
        },
        "id": "-4cMkDetUQmv",
        "outputId": "30a5eca4-3a06-4962-817f-12b301bad373"
      },
      "outputs": [
        {
          "name": "stdout",
          "output_type": "stream",
          "text": [
            "1 apple\n",
            "2 banana\n",
            "3 cherry\n",
            "4 kiwi\n",
            "5 gauva\n"
          ]
        }
      ],
      "source": [
        "# enumerate\n",
        "\n",
        "for i, fruit in enumerate(fruits, start=1):\n",
        "    print(i, fruit)\n"
      ]
    },
    {
      "cell_type": "code",
      "execution_count": 40,
      "metadata": {
        "id": "DEHe8_sPUps6"
      },
      "outputs": [],
      "source": [
        "for i, j  in enumerate(fruits, start=1):\n",
        "    pass"
      ]
    },
    {
      "cell_type": "code",
      "execution_count": 43,
      "metadata": {
        "colab": {
          "base_uri": "https://localhost:8080/"
        },
        "id": "v6qUWyMQU3iE",
        "outputId": "336dcac1-d2c2-4c01-d883-28bde4d6dc98"
      },
      "outputs": [
        {
          "name": "stdout",
          "output_type": "stream",
          "text": [
            "1 apple\n",
            "2 banana\n",
            "3 cherry\n",
            "4 kiwi\n",
            "5 gauva\n"
          ]
        }
      ],
      "source": [
        "for i in range(len(fruits)):\n",
        "    print(i+1, fruits[i])"
      ]
    },
    {
      "cell_type": "code",
      "execution_count": 45,
      "metadata": {
        "colab": {
          "base_uri": "https://localhost:8080/"
        },
        "id": "1Xx8HIILVXiC",
        "outputId": "ae42105e-717f-45b9-c8fe-251fc45b5ed1"
      },
      "outputs": [
        {
          "name": "stdout",
          "output_type": "stream",
          "text": [
            "[1, 4, 9, 16, 25, 36, 49, 64, 81, 100]\n"
          ]
        }
      ],
      "source": [
        "## List comprehensions..\n",
        "\n",
        "### conventional way..\n",
        "squares = []\n",
        "\n",
        "for num in range(1, 11):\n",
        "    squares.append(num**2)\n",
        "\n",
        "print(squares)"
      ]
    },
    {
      "cell_type": "code",
      "execution_count": 47,
      "metadata": {
        "colab": {
          "base_uri": "https://localhost:8080/"
        },
        "id": "_bWX_pR5V3pG",
        "outputId": "164a8810-2651-4d3e-c66c-8a2354612cf9"
      },
      "outputs": [
        {
          "data": {
            "text/plain": [
              "[1, 4, 9, 16, 25, 36, 49, 64, 81, 100]"
            ]
          },
          "execution_count": 47,
          "metadata": {},
          "output_type": "execute_result"
        }
      ],
      "source": [
        "##\n",
        "squares_result = [num**2 for num in range(1,11)]\n",
        "squares_result\n"
      ]
    },
    {
      "cell_type": "markdown",
      "metadata": {
        "id": "TVp_If8iWabH"
      },
      "source": [
        "##### List Comprehension\n",
        "\n",
        "Basics Syantax            `[expression for item in iterable]`\n",
        "\n",
        "with conditional logic    `[expression for item in iterable if condition]`\n",
        "\n",
        "Nested List Comprehension `[expression for item1 in iterable1 for item2 in iterable2]`"
      ]
    },
    {
      "cell_type": "code",
      "execution_count": 48,
      "metadata": {
        "colab": {
          "base_uri": "https://localhost:8080/"
        },
        "id": "hWGDYYaRWP-b",
        "outputId": "ed6b38da-e1ea-4fa9-d91a-62877a1b4f6c"
      },
      "outputs": [
        {
          "name": "stdout",
          "output_type": "stream",
          "text": [
            "[0, 1, 4, 9, 16, 25, 36, 49, 64, 81]\n"
          ]
        }
      ],
      "source": [
        "squares=[num**2 for num in range(10)]\n",
        "print(squares)"
      ]
    },
    {
      "cell_type": "code",
      "execution_count": 49,
      "metadata": {
        "colab": {
          "base_uri": "https://localhost:8080/"
        },
        "id": "eebQX5tVWr5c",
        "outputId": "84a1dd22-300b-4663-b2af-b15896e6e556"
      },
      "outputs": [
        {
          "name": "stdout",
          "output_type": "stream",
          "text": [
            "[0, 2, 4, 6, 8]\n"
          ]
        }
      ],
      "source": [
        "lst=[]\n",
        "for i in range(10):\n",
        "    if i%2==0:\n",
        "        lst.append(i)\n",
        "\n",
        "print(lst)"
      ]
    },
    {
      "cell_type": "code",
      "execution_count": 53,
      "metadata": {
        "colab": {
          "base_uri": "https://localhost:8080/"
        },
        "id": "cIDwdgCwWxmf",
        "outputId": "0d92eea1-409f-465e-9b37-d066da3bacae"
      },
      "outputs": [
        {
          "data": {
            "text/plain": [
              "[2, 4, 6, 8, 10]"
            ]
          },
          "execution_count": 53,
          "metadata": {},
          "output_type": "execute_result"
        }
      ],
      "source": [
        "evens = [i for i in range(1,11) if i%2==0]\n",
        "evens"
      ]
    },
    {
      "cell_type": "code",
      "execution_count": 55,
      "metadata": {
        "colab": {
          "base_uri": "https://localhost:8080/"
        },
        "id": "Ds6nT82pW861",
        "outputId": "5395f4fd-2c1f-4611-e835-de1dd1e6f072"
      },
      "outputs": [
        {
          "name": "stdout",
          "output_type": "stream",
          "text": [
            "1 4\n",
            "1 5\n",
            "1 6\n",
            "2 4\n",
            "2 5\n",
            "2 6\n",
            "3 4\n",
            "3 5\n",
            "3 6\n"
          ]
        }
      ],
      "source": [
        "l1 = [1,2,3]\n",
        "l2 = [4,5,6]\n",
        "\n",
        "for i in l1:\n",
        "    for j in l2:\n",
        "        print(i,j)\n"
      ]
    },
    {
      "cell_type": "code",
      "execution_count": 57,
      "metadata": {
        "colab": {
          "base_uri": "https://localhost:8080/"
        },
        "id": "16gIL2FlXUxB",
        "outputId": "b7bcd83f-dc16-4b03-a99f-710c0d5280ce"
      },
      "outputs": [
        {
          "data": {
            "text/plain": [
              "[(1, 4), (1, 5), (1, 6), (2, 4), (2, 5), (2, 6), (3, 4), (3, 5), (3, 6)]"
            ]
          },
          "execution_count": 57,
          "metadata": {},
          "output_type": "execute_result"
        }
      ],
      "source": [
        "[(i,j) for i in l1 for j in l2]"
      ]
    },
    {
      "cell_type": "code",
      "execution_count": 59,
      "metadata": {
        "colab": {
          "base_uri": "https://localhost:8080/"
        },
        "id": "Xi9mfpu-XfWg",
        "outputId": "957299b1-3429-4c75-cf9b-4f1ccc90514a"
      },
      "outputs": [
        {
          "data": {
            "text/plain": [
              "[('hello', 5), ('world', 5), ('python', 6), ('list', 4), ('comprehension', 13)]"
            ]
          },
          "execution_count": 59,
          "metadata": {},
          "output_type": "execute_result"
        }
      ],
      "source": [
        "words = [\"hello\", \"world\", \"python\", \"list\", \"comprehension\"]\n",
        "\n",
        "lengths = [ (word, len(word)) for word in words]\n",
        "\n",
        "lengths"
      ]
    },
    {
      "cell_type": "code",
      "execution_count": null,
      "metadata": {
        "id": "mUj51JXlXyeY"
      },
      "outputs": [],
      "source": []
    },
    {
      "cell_type": "markdown",
      "metadata": {
        "id": "YG0A6iplYCiS"
      },
      "source": [
        "----"
      ]
    },
    {
      "cell_type": "markdown",
      "metadata": {
        "id": "uXzV5wFnYQIQ"
      },
      "source": [
        "\n",
        "##### Introduction to Tuples\n",
        "Explanation:\n",
        "\n",
        "Tuples are ordered collections of items that are immutable.\n",
        "They are similar to lists, but their immutability makes them different."
      ]
    },
    {
      "cell_type": "code",
      "execution_count": 60,
      "metadata": {
        "colab": {
          "base_uri": "https://localhost:8080/"
        },
        "id": "fKDyEcf6YC1M",
        "outputId": "95a34d9b-e17e-4547-c223-cac766915f10"
      },
      "outputs": [
        {
          "name": "stdout",
          "output_type": "stream",
          "text": [
            "()\n",
            "<class 'tuple'>\n"
          ]
        }
      ],
      "source": [
        "empty_tuple=()\n",
        "print(empty_tuple)\n",
        "print(type(empty_tuple))"
      ]
    },
    {
      "cell_type": "code",
      "execution_count": 62,
      "metadata": {
        "colab": {
          "base_uri": "https://localhost:8080/"
        },
        "id": "Vf2QWYaOYIEL",
        "outputId": "ec99f33a-42c2-40b5-f4a4-04a434f28bc8"
      },
      "outputs": [
        {
          "data": {
            "text/plain": [
              "[1, 2, 3, 4, 5, 6, 7, 8, 9, 10]"
            ]
          },
          "execution_count": 62,
          "metadata": {},
          "output_type": "execute_result"
        }
      ],
      "source": [
        "numbers"
      ]
    },
    {
      "cell_type": "code",
      "execution_count": 61,
      "metadata": {
        "colab": {
          "base_uri": "https://localhost:8080/"
        },
        "id": "L-aNWLATYEoH",
        "outputId": "66faf6da-5eca-444c-d39f-9ff815f60900"
      },
      "outputs": [
        {
          "data": {
            "text/plain": [
              "list"
            ]
          },
          "execution_count": 61,
          "metadata": {},
          "output_type": "execute_result"
        }
      ],
      "source": [
        "type(numbers)"
      ]
    },
    {
      "cell_type": "code",
      "execution_count": 63,
      "metadata": {
        "colab": {
          "base_uri": "https://localhost:8080/"
        },
        "id": "3FjW_89FYHJI",
        "outputId": "7f56d50d-3899-41f8-bac3-99559046db11"
      },
      "outputs": [
        {
          "name": "stdout",
          "output_type": "stream",
          "text": [
            "(1, 2, 3, 4, 5, 6, 7, 8, 9, 10)\n"
          ]
        }
      ],
      "source": [
        "numbers = tuple(numbers)\n",
        "print(numbers)"
      ]
    },
    {
      "cell_type": "code",
      "execution_count": 64,
      "metadata": {
        "colab": {
          "base_uri": "https://localhost:8080/"
        },
        "id": "so3FrRGWYMsV",
        "outputId": "e7eea102-483e-4b42-d585-0d7fff3f866b"
      },
      "outputs": [
        {
          "name": "stdout",
          "output_type": "stream",
          "text": [
            "(1, 'Hello World', 3.14, True)\n"
          ]
        }
      ],
      "source": [
        "mixed_tuple=(1,\"Hello World\",3.14, True)\n",
        "print(mixed_tuple)"
      ]
    },
    {
      "cell_type": "code",
      "execution_count": 65,
      "metadata": {
        "colab": {
          "base_uri": "https://localhost:8080/"
        },
        "id": "8WLhO6OiYfhs",
        "outputId": "4cc0a939-8e2a-4d2b-d1eb-9fe26e092d4d"
      },
      "outputs": [
        {
          "name": "stdout",
          "output_type": "stream",
          "text": [
            "3\n",
            "10\n"
          ]
        }
      ],
      "source": [
        "print(numbers[2])\n",
        "print(numbers[-1])"
      ]
    },
    {
      "cell_type": "code",
      "execution_count": 66,
      "metadata": {
        "colab": {
          "base_uri": "https://localhost:8080/"
        },
        "id": "xyRz_jMPYjAG",
        "outputId": "f747bc29-95e0-4e3c-d2c2-5a1b26851f2e"
      },
      "outputs": [
        {
          "data": {
            "text/plain": [
              "(10, 9, 8, 7, 6, 5, 4, 3, 2, 1)"
            ]
          },
          "execution_count": 66,
          "metadata": {},
          "output_type": "execute_result"
        }
      ],
      "source": [
        "numbers[::-1]"
      ]
    },
    {
      "cell_type": "code",
      "execution_count": 69,
      "metadata": {
        "colab": {
          "base_uri": "https://localhost:8080/"
        },
        "id": "4Gx8E9x3Yk5K",
        "outputId": "1c43d0f6-9ebc-44a4-8245-97179f121968"
      },
      "outputs": [
        {
          "data": {
            "text/plain": [
              "[1, 2, 3, 4, 5, 6]"
            ]
          },
          "execution_count": 69,
          "metadata": {},
          "output_type": "execute_result"
        }
      ],
      "source": [
        "l1 = [1,2,3]\n",
        "l2 = [4,5,6]\n",
        "\n",
        "l1.extend(l2)\n",
        "\n",
        "l1\n"
      ]
    },
    {
      "cell_type": "code",
      "execution_count": 70,
      "metadata": {
        "colab": {
          "base_uri": "https://localhost:8080/"
        },
        "id": "bIe5PdvhYs5M",
        "outputId": "cc5de026-0290-4736-fa1d-9e9eac186637"
      },
      "outputs": [
        {
          "name": "stdout",
          "output_type": "stream",
          "text": [
            "(1, 2, 3, 4, 5, 6, 7, 8, 9, 10, 1, 'Hello World', 3.14, True)\n"
          ]
        }
      ],
      "source": [
        "concatenation_tuple=numbers + mixed_tuple\n",
        "print(concatenation_tuple)"
      ]
    },
    {
      "cell_type": "code",
      "execution_count": 73,
      "metadata": {
        "colab": {
          "base_uri": "https://localhost:8080/"
        },
        "id": "dMcgODOwY-i1",
        "outputId": "94c60e93-9dc3-4d9d-871f-474bab4f9b3b"
      },
      "outputs": [
        {
          "name": "stdout",
          "output_type": "stream",
          "text": [
            "[1, 2, 3, 4, 5]\n",
            "[1, 'Nikhil', 3, 4, 5]\n"
          ]
        }
      ],
      "source": [
        "## Immutable Nature Of Tuples\n",
        "## Tuples are immutable, meaning their elements cannot be changed once assigned.\n",
        "\n",
        "lst=[1,2,3,4,5]\n",
        "print(lst)\n",
        "\n",
        "lst[1]=\"Nikhil\"\n",
        "print(lst)"
      ]
    },
    {
      "cell_type": "markdown",
      "metadata": {
        "id": "0MICRvSIZM4g"
      },
      "source": [
        "## Tuple Methods\n",
        "\n",
        "Python has two built-in methods that you can use on tuples.\n",
        "\n",
        "| Method  | Description |\n",
        "|---------|-------------|\n",
        "| `count()` | Returns the number of times a specified value occurs in a tuple |\n",
        "| `index()` | Searches the tuple for a specified value and returns the position of where it was found |"
      ]
    },
    {
      "cell_type": "code",
      "execution_count": 74,
      "metadata": {
        "colab": {
          "base_uri": "https://localhost:8080/"
        },
        "id": "gB6V3uT3ZC0-",
        "outputId": "555cc6ec-b55a-4d7a-8295-5b5a124b4bc6"
      },
      "outputs": [
        {
          "name": "stdout",
          "output_type": "stream",
          "text": [
            "4\n",
            "13\n"
          ]
        }
      ],
      "source": [
        "## Tuple Methods\n",
        "\n",
        "numbers = (1, 2, 3, 4, 5, 6, 7, 8, 9, 10, 1, 1, 1,'something' )\n",
        "print(numbers.count(1))\n",
        "print(numbers.index('something'))"
      ]
    },
    {
      "cell_type": "code",
      "execution_count": 75,
      "metadata": {
        "colab": {
          "base_uri": "https://localhost:8080/"
        },
        "id": "ljSEyatDZTlD",
        "outputId": "9e88ed93-ddc6-466d-b5a2-065ddff9c2f4"
      },
      "outputs": [
        {
          "name": "stdout",
          "output_type": "stream",
          "text": [
            "<class 'tuple'>\n",
            "(1, 'Hello', 3.14)\n"
          ]
        }
      ],
      "source": [
        "## Packing and Unpacking tuple\n",
        "## packing\n",
        "packed_tuple=1,\"Hello\",3.14\n",
        "print(type(packed_tuple))\n",
        "print(packed_tuple)\n"
      ]
    },
    {
      "cell_type": "code",
      "execution_count": 76,
      "metadata": {
        "colab": {
          "base_uri": "https://localhost:8080/"
        },
        "id": "8bHrKyhNZd9Z",
        "outputId": "29630810-7243-417f-fb2f-5596c85552c0"
      },
      "outputs": [
        {
          "name": "stdout",
          "output_type": "stream",
          "text": [
            "1\n",
            "Hello\n",
            "3.14\n"
          ]
        }
      ],
      "source": [
        "##unpacking a tuple\n",
        "a,b,c=packed_tuple\n",
        "\n",
        "print(a)\n",
        "print(b)\n",
        "print(c)"
      ]
    },
    {
      "cell_type": "code",
      "execution_count": 83,
      "metadata": {
        "colab": {
          "base_uri": "https://localhost:8080/"
        },
        "id": "vqeAhSEzZiQN",
        "outputId": "ae4cbdc4-2c49-4829-a4a0-cd87755b3524"
      },
      "outputs": [
        {
          "name": "stdout",
          "output_type": "stream",
          "text": [
            "(1, 2, 3, 4, 5, 6, 7, 8, 9, 10)\n",
            "------------------------------\n",
            "1\n",
            "2\n",
            "[3, 4, 5, 6, 7, 8, 9, 10]\n"
          ]
        }
      ],
      "source": [
        "## unpacking with *\n",
        "\n",
        "numbers = tuple(range(1,11))\n",
        "print(numbers)\n",
        "\n",
        "print('-'*30)\n",
        "\n",
        "first, second, *c = numbers\n",
        "\n",
        "print(first)\n",
        "print(second)\n",
        "print(c)\n"
      ]
    },
    {
      "cell_type": "code",
      "execution_count": 86,
      "metadata": {
        "colab": {
          "base_uri": "https://localhost:8080/"
        },
        "id": "phOeicNwZt_d",
        "outputId": "9920a761-c5a7-45f1-d4c4-d641c7bfd7d7"
      },
      "outputs": [
        {
          "name": "stdout",
          "output_type": "stream",
          "text": [
            "['e', 'l', 'l', 'o']\n"
          ]
        }
      ],
      "source": [
        "s, *d = 'hello'\n",
        "s\n",
        "\n",
        "print(d)"
      ]
    },
    {
      "cell_type": "code",
      "execution_count": 87,
      "metadata": {
        "id": "9OtwiyrlbcPT"
      },
      "outputs": [],
      "source": [
        " # https://realpython.com/python-tuple/"
      ]
    },
    {
      "cell_type": "code",
      "execution_count": 98,
      "metadata": {
        "colab": {
          "base_uri": "https://localhost:8080/",
          "height": 35
        },
        "id": "XwtH3gRUbpNe",
        "outputId": "dd03b027-6df1-4ffc-e270-4018b0f27ced"
      },
      "outputs": [
        {
          "data": {
            "application/vnd.google.colaboratory.intrinsic+json": {
              "type": "string"
            },
            "text/plain": [
              "'c'"
            ]
          },
          "execution_count": 98,
          "metadata": {},
          "output_type": "execute_result"
        }
      ],
      "source": [
        "nested_tuple = ((1, 2, 3),\n",
        "                (\"a\", \"b\", \"c\"),\n",
        "                (True, False), 1,2,3,4,5)\n",
        "\n",
        "nested_tuple[1][2]\n"
      ]
    },
    {
      "cell_type": "code",
      "execution_count": 92,
      "metadata": {
        "id": "Xzvg7f6IbyWR"
      },
      "outputs": [],
      "source": [
        "# nested_tuple.append((1,2,3)) # errors"
      ]
    },
    {
      "cell_type": "code",
      "execution_count": null,
      "metadata": {
        "id": "8GJh5uImcIx6"
      },
      "outputs": [],
      "source": []
    },
    {
      "cell_type": "markdown",
      "metadata": {
        "id": "HSF_uTZjc37x"
      },
      "source": [
        "#### Sets\n",
        "Sets are a built-in data type in Python used to store collections of unique items. They are unordered, meaning that the elements do not follow a specific order, and they do not allow duplicate elements. Sets are useful for membership tests, eliminating duplicate entries, and performing mathematical set operations like union, intersection, difference, and symmetric difference."
      ]
    },
    {
      "cell_type": "code",
      "execution_count": 102,
      "metadata": {
        "id": "5DESKLPndQ1M"
      },
      "outputs": [],
      "source": [
        "# set is a collection of unique/distinct elements"
      ]
    },
    {
      "cell_type": "code",
      "execution_count": 99,
      "metadata": {
        "colab": {
          "base_uri": "https://localhost:8080/"
        },
        "id": "smOZJd4oc4U5",
        "outputId": "dac65e7e-6750-4bd8-f2e4-e87e897f56f4"
      },
      "outputs": [
        {
          "name": "stdout",
          "output_type": "stream",
          "text": [
            "{1, 2, 3, 4, 5}\n",
            "<class 'set'>\n"
          ]
        }
      ],
      "source": [
        "my_set={1,2,3,4,5}\n",
        "\n",
        "print(my_set)\n",
        "print(type(my_set))"
      ]
    },
    {
      "cell_type": "code",
      "execution_count": 100,
      "metadata": {
        "colab": {
          "base_uri": "https://localhost:8080/"
        },
        "id": "M06neHJtc-61",
        "outputId": "75558f45-fbdf-42c2-b366-a23527d8b480"
      },
      "outputs": [
        {
          "name": "stdout",
          "output_type": "stream",
          "text": [
            "<class 'set'>\n"
          ]
        }
      ],
      "source": [
        "my_empty_set=set()\n",
        "print(type(my_empty_set))"
      ]
    },
    {
      "cell_type": "code",
      "execution_count": 101,
      "metadata": {
        "colab": {
          "base_uri": "https://localhost:8080/"
        },
        "id": "0RCGQDiVdB-d",
        "outputId": "731bfad8-47e2-4159-95f3-cfe4fc5efff7"
      },
      "outputs": [
        {
          "name": "stdout",
          "output_type": "stream",
          "text": [
            "{1, 2, 3, 4, 5, 6}\n"
          ]
        }
      ],
      "source": [
        "my_set=set([1,2,3,4,5, 5, 5, 6, 6, 6])\n",
        "print(my_set) #"
      ]
    },
    {
      "cell_type": "code",
      "execution_count": 104,
      "metadata": {
        "colab": {
          "base_uri": "https://localhost:8080/"
        },
        "id": "7N57e2andHg_",
        "outputId": "95fb5aa8-26bd-4950-e6cc-aa69a208c37d"
      },
      "outputs": [
        {
          "name": "stdout",
          "output_type": "stream",
          "text": [
            "{1, 2, 3, 4, 5, 6}\n",
            "{1, 2, 3, 4, 5, 6, 7}\n",
            "{1, 2, 3, 4, 5, 6, 7, 8}\n"
          ]
        }
      ],
      "source": [
        "## Basics Sets Operation\n",
        "## Adiing and Removing Elements\n",
        "print(my_set)\n",
        "my_set.add(7)\n",
        "print(my_set)\n",
        "my_set.add(8)\n",
        "print(my_set)"
      ]
    },
    {
      "cell_type": "code",
      "execution_count": 105,
      "metadata": {
        "colab": {
          "base_uri": "https://localhost:8080/"
        },
        "id": "3ngDZJQMdcnQ",
        "outputId": "6bdb4a9c-0843-4d94-ecc0-34ff35f74101"
      },
      "outputs": [
        {
          "name": "stdout",
          "output_type": "stream",
          "text": [
            "{1, 2, 4, 5, 6, 7, 8}\n"
          ]
        }
      ],
      "source": [
        "## Remove the elements from a set\n",
        "my_set.remove(3)\n",
        "print(my_set)"
      ]
    },
    {
      "cell_type": "code",
      "execution_count": 106,
      "metadata": {
        "colab": {
          "base_uri": "https://localhost:8080/",
          "height": 158
        },
        "id": "jjJx6zz8dvQ1",
        "outputId": "089daed6-b925-4df8-c90a-25cfd8de04bb"
      },
      "outputs": [
        {
          "ename": "KeyError",
          "evalue": "3",
          "output_type": "error",
          "traceback": [
            "\u001b[0;31m---------------------------------------------------------------------------\u001b[0m",
            "\u001b[0;31mKeyError\u001b[0m                                  Traceback (most recent call last)",
            "\u001b[0;32m/tmp/ipython-input-106-1082974682.py\u001b[0m in \u001b[0;36m<cell line: 0>\u001b[0;34m()\u001b[0m\n\u001b[0;32m----> 1\u001b[0;31m \u001b[0mmy_set\u001b[0m\u001b[0;34m.\u001b[0m\u001b[0mremove\u001b[0m\u001b[0;34m(\u001b[0m\u001b[0;36m3\u001b[0m\u001b[0;34m)\u001b[0m\u001b[0;34m\u001b[0m\u001b[0;34m\u001b[0m\u001b[0m\n\u001b[0m\u001b[1;32m      2\u001b[0m \u001b[0mprint\u001b[0m\u001b[0;34m(\u001b[0m\u001b[0mmy_set\u001b[0m\u001b[0;34m)\u001b[0m\u001b[0;34m\u001b[0m\u001b[0;34m\u001b[0m\u001b[0m\n",
            "\u001b[0;31mKeyError\u001b[0m: 3"
          ]
        }
      ],
      "source": [
        "my_set.remove(3)\n",
        "print(my_set)"
      ]
    },
    {
      "cell_type": "code",
      "execution_count": 107,
      "metadata": {
        "colab": {
          "base_uri": "https://localhost:8080/"
        },
        "id": "i0BqofkQdyhZ",
        "outputId": "bfc809be-aa75-4245-d83e-8cb73b2dca99"
      },
      "outputs": [
        {
          "name": "stdout",
          "output_type": "stream",
          "text": [
            "1\n",
            "{2, 4, 5, 6, 7, 8}\n"
          ]
        }
      ],
      "source": [
        "## pop method\n",
        "removed_element=my_set.pop()\n",
        "print(removed_element)\n",
        "print(my_set)"
      ]
    },
    {
      "cell_type": "code",
      "execution_count": 108,
      "metadata": {
        "colab": {
          "base_uri": "https://localhost:8080/"
        },
        "id": "9eI8SCmrd6p7",
        "outputId": "a2c2098c-a093-405e-cc64-2c8cbb682562"
      },
      "outputs": [
        {
          "name": "stdout",
          "output_type": "stream",
          "text": [
            "2\n",
            "{4, 5, 6, 7, 8}\n"
          ]
        }
      ],
      "source": [
        "## pop method\n",
        "removed_element=my_set.pop()\n",
        "print(removed_element)\n",
        "print(my_set)"
      ]
    },
    {
      "cell_type": "markdown",
      "metadata": {
        "id": "1V8C53TKeOIY"
      },
      "source": [
        "![image.png](data:image/png;base64,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)"
      ]
    },
    {
      "cell_type": "code",
      "execution_count": 109,
      "metadata": {
        "colab": {
          "base_uri": "https://localhost:8080/"
        },
        "id": "vFKt_q0Cd8bg",
        "outputId": "fac02e8f-6389-48eb-e1e8-fce5a1e845de"
      },
      "outputs": [
        {
          "name": "stdout",
          "output_type": "stream",
          "text": [
            "{1, 2, 3, 4, 5, 6, 7, 8, 9}\n"
          ]
        }
      ],
      "source": [
        "## Mathematical Operation\n",
        "set1={1,2,3,4,5,6}\n",
        "set2={4,5,6,7,8,9}\n",
        "\n",
        "### Union\n",
        "union_set=set1.union(set2)\n",
        "print(union_set)"
      ]
    },
    {
      "cell_type": "code",
      "execution_count": 110,
      "metadata": {
        "colab": {
          "base_uri": "https://localhost:8080/"
        },
        "id": "FqS9rJ8keXhZ",
        "outputId": "bffc4785-f754-478c-9be8-2eaf2471ddd9"
      },
      "outputs": [
        {
          "name": "stdout",
          "output_type": "stream",
          "text": [
            "{4, 5, 6}\n"
          ]
        }
      ],
      "source": [
        "## Intersection\n",
        "intersection_set=set1.intersection(set2)\n",
        "print(intersection_set)"
      ]
    },
    {
      "cell_type": "code",
      "execution_count": 111,
      "metadata": {
        "colab": {
          "base_uri": "https://localhost:8080/"
        },
        "id": "-CITUxTyebAl",
        "outputId": "9fb6c289-76fa-4beb-9366-e6b155c01790"
      },
      "outputs": [
        {
          "name": "stdout",
          "output_type": "stream",
          "text": [
            "{1, 2, 3}\n"
          ]
        }
      ],
      "source": [
        "set1={1,2,3,4,5,6}\n",
        "set2={4,5,6,7,8,9}\n",
        "\n",
        "## Difference\n",
        "print(set1.difference(set2))"
      ]
    },
    {
      "cell_type": "code",
      "execution_count": 112,
      "metadata": {
        "colab": {
          "base_uri": "https://localhost:8080/"
        },
        "id": "zn-h-j8eed_k",
        "outputId": "e0ff0887-0d0a-4e52-ae6c-d601020162b5"
      },
      "outputs": [
        {
          "data": {
            "text/plain": [
              "{1, 2, 3, 7, 8, 9}"
            ]
          },
          "execution_count": 112,
          "metadata": {},
          "output_type": "execute_result"
        }
      ],
      "source": [
        "## Symmetric Difference\n",
        "set1.symmetric_difference(set2)"
      ]
    },
    {
      "cell_type": "markdown",
      "metadata": {
        "id": "K-T8dUFNfQq6"
      },
      "source": [
        "![image.png](data:image/png;base64,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)"
      ]
    },
    {
      "cell_type": "markdown",
      "metadata": {
        "id": "uRwtPt7fe-Zy"
      },
      "source": [
        "![image.png](data:image/png;base64,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)"
      ]
    },
    {
      "cell_type": "code",
      "execution_count": null,
      "metadata": {
        "id": "Tf9vNV4PegZ7"
      },
      "outputs": [],
      "source": [
        "## Sets Methods\n",
        "set1={1,2,3,4,5}\n",
        "set2={3,4,5}\n",
        "\n",
        "## is subset\n",
        "print(set1.issubset(set2)) # false\n",
        "\n",
        "print(set1.issuperset(set2)) # true"
      ]
    },
    {
      "cell_type": "code",
      "execution_count": null,
      "metadata": {
        "id": "1HiUUwFCfXQr"
      },
      "outputs": [],
      "source": [
        "\n",
        "## TASK 1 : remove duplicates from a list and return the dups\n",
        "\n",
        "## TASK 2 : how many times each letter has occured in the given sentence\n",
        "\n",
        "## TASK 3 : count the occurances of vowels\n",
        "\n",
        "\n",
        "\n"
      ]
    },
    {
      "cell_type": "markdown",
      "metadata": {
        "id": "8QxlYog7f_Ro"
      },
      "source": [
        "##### Introduction to Dictionaries\n",
        "\n",
        "Dictionaries are unordered collections of items. They store data in key-value pairs.\n",
        "Keys must be unique and immutable (e.g., strings, numbers, or tuples), while values can be of any type."
      ]
    },
    {
      "cell_type": "code",
      "execution_count": 113,
      "metadata": {
        "colab": {
          "base_uri": "https://localhost:8080/"
        },
        "id": "j48P3mbof_g1",
        "outputId": "502302d2-f582-4a96-d675-e93220b41642"
      },
      "outputs": [
        {
          "name": "stdout",
          "output_type": "stream",
          "text": [
            "<class 'dict'>\n"
          ]
        }
      ],
      "source": [
        "## Creating Dictionaries\n",
        "empty_dict={}\n",
        "print(type(empty_dict))"
      ]
    },
    {
      "cell_type": "code",
      "execution_count": 114,
      "metadata": {
        "colab": {
          "base_uri": "https://localhost:8080/"
        },
        "id": "YQcZBQv1gHSj",
        "outputId": "ceb59b6b-6536-40ab-d960-1084304e8c7e"
      },
      "outputs": [
        {
          "data": {
            "text/plain": [
              "{}"
            ]
          },
          "execution_count": 114,
          "metadata": {},
          "output_type": "execute_result"
        }
      ],
      "source": [
        "empty_dict=dict()\n",
        "empty_dict"
      ]
    },
    {
      "cell_type": "code",
      "execution_count": 115,
      "metadata": {
        "colab": {
          "base_uri": "https://localhost:8080/"
        },
        "id": "ZlCoy-JZgIuo",
        "outputId": "c2d62e4c-fe34-442e-e4c6-c455ef1becbc"
      },
      "outputs": [
        {
          "data": {
            "text/plain": [
              "dict"
            ]
          },
          "execution_count": 115,
          "metadata": {},
          "output_type": "execute_result"
        }
      ],
      "source": [
        "d = {'key':'value'}\n",
        "type(d)"
      ]
    },
    {
      "cell_type": "code",
      "execution_count": 116,
      "metadata": {
        "colab": {
          "base_uri": "https://localhost:8080/"
        },
        "id": "TDxO_9hJgMwF",
        "outputId": "4b928324-644e-42e3-994f-60de19a6d14f"
      },
      "outputs": [
        {
          "name": "stdout",
          "output_type": "stream",
          "text": [
            "{'name': 'Nikhil', 'age': 24, 'grade': 8.5}\n",
            "<class 'dict'>\n"
          ]
        }
      ],
      "source": [
        "student={\"name\":\"Nikhil\",\"age\":24,\"grade\":8.5}\n",
        "print(student)\n",
        "print(type(student))"
      ]
    },
    {
      "cell_type": "code",
      "execution_count": 117,
      "metadata": {
        "colab": {
          "base_uri": "https://localhost:8080/"
        },
        "id": "WIcj9qEhgQWu",
        "outputId": "e64973b6-262d-46cd-d842-2a755d6cf6da"
      },
      "outputs": [
        {
          "name": "stdout",
          "output_type": "stream",
          "text": [
            "8.5\n",
            "Nikhil\n"
          ]
        }
      ],
      "source": [
        "## Accessing Dictionary elements\n",
        "print(student['grade'])\n",
        "print(student['name'])"
      ]
    },
    {
      "cell_type": "code",
      "execution_count": 118,
      "metadata": {
        "colab": {
          "base_uri": "https://localhost:8080/"
        },
        "id": "2u0GlUyzgWnF",
        "outputId": "2891fafd-4bb0-48ea-911e-91b38099c347"
      },
      "outputs": [
        {
          "name": "stdout",
          "output_type": "stream",
          "text": [
            "8.5\n"
          ]
        }
      ],
      "source": [
        "## Accessing using get() method\n",
        "print(student.get('grade'))"
      ]
    },
    {
      "cell_type": "code",
      "execution_count": 121,
      "metadata": {
        "colab": {
          "base_uri": "https://localhost:8080/"
        },
        "id": "YkdBi_aOgab7",
        "outputId": "38ed6569-0a34-40cb-cc51-a4046f212ed1"
      },
      "outputs": [
        {
          "name": "stdout",
          "output_type": "stream",
          "text": [
            "not present\n"
          ]
        }
      ],
      "source": [
        "print(student.get('last_name', 'not present'))"
      ]
    },
    {
      "cell_type": "code",
      "execution_count": 122,
      "metadata": {
        "colab": {
          "base_uri": "https://localhost:8080/"
        },
        "id": "54qmyr4jggJ4",
        "outputId": "caeb591a-80c6-44ec-860c-518fac220111"
      },
      "outputs": [
        {
          "name": "stdout",
          "output_type": "stream",
          "text": [
            "Not Available\n"
          ]
        }
      ],
      "source": [
        "print(student.get('last_name',\"Not Available\"))"
      ]
    },
    {
      "cell_type": "code",
      "execution_count": 123,
      "metadata": {
        "colab": {
          "base_uri": "https://localhost:8080/"
        },
        "id": "pdWXYYqngmNE",
        "outputId": "546f1308-b498-4664-ac4c-a64edd5683f3"
      },
      "outputs": [
        {
          "name": "stdout",
          "output_type": "stream",
          "text": [
            "{'name': 'Nikhil', 'age': 24, 'grade': 8.5}\n"
          ]
        }
      ],
      "source": [
        "## Modifying Dicitonary Elements\n",
        "## Dictionary are mutable,so you can add, update or delete elements\n",
        "print(student)"
      ]
    },
    {
      "cell_type": "code",
      "execution_count": 125,
      "metadata": {
        "colab": {
          "base_uri": "https://localhost:8080/"
        },
        "id": "jFF67FddgrFf",
        "outputId": "14458841-ecf5-4398-f25d-b782a6ef8497"
      },
      "outputs": [
        {
          "data": {
            "text/plain": [
              "{'name': 'Nikhil', 'age': 24, 'grade': 'A', 'address': 'India'}"
            ]
          },
          "execution_count": 125,
          "metadata": {},
          "output_type": "execute_result"
        }
      ],
      "source": [
        "student['grade'] = 'A'\n",
        "student['address'] = 'India'\n",
        "\n",
        "student"
      ]
    },
    {
      "cell_type": "code",
      "execution_count": 126,
      "metadata": {
        "colab": {
          "base_uri": "https://localhost:8080/"
        },
        "id": "35XYst0Ngycc",
        "outputId": "8b3ec1f4-a0b8-4602-f7d7-fb387fd315bd"
      },
      "outputs": [
        {
          "name": "stdout",
          "output_type": "stream",
          "text": [
            "{'name': 'Nikhil', 'age': 24, 'address': 'India'}\n"
          ]
        }
      ],
      "source": [
        "del student['grade'] ## delete key and value pair\n",
        "\n",
        "print(student)"
      ]
    },
    {
      "cell_type": "code",
      "execution_count": 127,
      "metadata": {
        "colab": {
          "base_uri": "https://localhost:8080/"
        },
        "id": "v5xrIlD9g-sU",
        "outputId": "ac530372-42ec-48c3-8b3b-5373283a5de3"
      },
      "outputs": [
        {
          "name": "stdout",
          "output_type": "stream",
          "text": [
            "dict_keys(['name', 'age', 'address'])\n",
            "dict_values(['Nikhil', 24, 'India'])\n"
          ]
        }
      ],
      "source": [
        "keys=student.keys() ##get all the keys\n",
        "print(keys)\n",
        "values=student.values() ##get all values\n",
        "print(values)"
      ]
    },
    {
      "cell_type": "code",
      "execution_count": 128,
      "metadata": {
        "colab": {
          "base_uri": "https://localhost:8080/"
        },
        "id": "kgNsNMQUhCyq",
        "outputId": "5368a474-c5e0-4509-c977-bb6d623a5f1f"
      },
      "outputs": [
        {
          "name": "stdout",
          "output_type": "stream",
          "text": [
            "dict_items([('name', 'Nikhil'), ('age', 24), ('address', 'India')])\n"
          ]
        }
      ],
      "source": [
        "items=student.items() ##get all key value pairs\n",
        "print(items)"
      ]
    },
    {
      "cell_type": "code",
      "execution_count": 129,
      "metadata": {
        "colab": {
          "base_uri": "https://localhost:8080/"
        },
        "id": "qufSUS7ehEz6",
        "outputId": "57105677-0ba8-45de-914b-844a9ab4f364"
      },
      "outputs": [
        {
          "name": "stdout",
          "output_type": "stream",
          "text": [
            "name Nikhil\n",
            "age 24\n",
            "address India\n"
          ]
        }
      ],
      "source": [
        "for key, value in student.items():\n",
        "  print(key, value)"
      ]
    },
    {
      "cell_type": "code",
      "execution_count": 130,
      "metadata": {
        "colab": {
          "base_uri": "https://localhost:8080/"
        },
        "id": "BGprLWUFhJU3",
        "outputId": "974a357d-1e54-47fe-9de6-e9cbc0ebdc82"
      },
      "outputs": [
        {
          "name": "stdout",
          "output_type": "stream",
          "text": [
            "{'student1': {'name': 'Nikhil', 'age': 24}, 'student2': {'name': 'Peter', 'age': 35}}\n"
          ]
        }
      ],
      "source": [
        "## Nested Disctionaries\n",
        "students={\n",
        "    \"student1\":{\"name\":\"Nikhil\",\"age\":24},\n",
        "    \"student2\":{\"name\":\"Peter\",\"age\":35}\n",
        "}\n",
        "print(students)"
      ]
    },
    {
      "cell_type": "code",
      "execution_count": 133,
      "metadata": {
        "colab": {
          "base_uri": "https://localhost:8080/"
        },
        "id": "98HzxQhFhPtW",
        "outputId": "cc98cc9d-1fd4-4267-95f6-bd75ae57c4d9"
      },
      "outputs": [
        {
          "name": "stdout",
          "output_type": "stream",
          "text": [
            "{'Python': 6, 'is': 2, 'awesome!': 8}\n"
          ]
        }
      ],
      "source": [
        "words = ['Python', 'is', 'awesome!']\n",
        "\n",
        "# task is to create a dict -> {key:value} -> {word:len(word)} -> {'python': 6}\n",
        "\n",
        "result = dict()\n",
        "for word in words:\n",
        "    result[word] = len(word)\n",
        "\n",
        "print(result)\n"
      ]
    },
    {
      "cell_type": "code",
      "execution_count": 134,
      "metadata": {
        "colab": {
          "base_uri": "https://localhost:8080/"
        },
        "id": "xJnAtKrmhbRb",
        "outputId": "c21fc834-96a1-43d6-8f4a-cd49eda243b2"
      },
      "outputs": [
        {
          "name": "stdout",
          "output_type": "stream",
          "text": [
            "{'Python': 6, 'is': 2, 'awesome!': 8}\n"
          ]
        }
      ],
      "source": [
        "res2 = {word:len(word) for word in words}\n",
        "print(res2)"
      ]
    },
    {
      "cell_type": "code",
      "execution_count": 137,
      "metadata": {
        "colab": {
          "base_uri": "https://localhost:8080/"
        },
        "id": "q9_Z28LvikOS",
        "outputId": "28d9d85b-35bf-4880-8346-15e62a2cc12d"
      },
      "outputs": [
        {
          "data": {
            "text/plain": [
              "{'Python': 6, 'is': 2, 'awesome!': 8, 'pi': 2}"
            ]
          },
          "execution_count": 137,
          "metadata": {},
          "output_type": "execute_result"
        }
      ],
      "source": [
        "s = {'Python': 6, 'is': 2, 'awesome!': 8, 'pi':2}\n",
        "s"
      ]
    },
    {
      "cell_type": "code",
      "execution_count": null,
      "metadata": {
        "id": "TvsgGIZzi25A"
      },
      "outputs": [],
      "source": [
        "# TASK: concat 2 dicts,\n"
      ]
    }
  ],
  "metadata": {
    "colab": {
      "provenance": []
    },
    "kernelspec": {
      "display_name": "Python 3",
      "name": "python3"
    },
    "language_info": {
      "codemirror_mode": {
        "name": "ipython",
        "version": 3
      },
      "file_extension": ".py",
      "mimetype": "text/x-python",
      "name": "python",
      "nbconvert_exporter": "python",
      "pygments_lexer": "ipython3",
      "version": "3.11.11"
    }
  },
  "nbformat": 4,
  "nbformat_minor": 0
}
