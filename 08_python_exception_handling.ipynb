{
 "cells": [
  {
   "cell_type": "code",
   "execution_count": 1,
   "id": "6886f188",
   "metadata": {},
   "outputs": [
    {
     "data": {
      "text/plain": [
       "10"
      ]
     },
     "execution_count": 1,
     "metadata": {},
     "output_type": "execute_result"
    }
   ],
   "source": [
    "\n",
    "\n",
    "a = 10\n",
    "\n",
    "a"
   ]
  },
  {
   "cell_type": "code",
   "execution_count": 4,
   "id": "e293f830",
   "metadata": {},
   "outputs": [
    {
     "name": "stdout",
     "output_type": "stream",
     "text": [
      "There is some error\n"
     ]
    }
   ],
   "source": [
    "try:\n",
    "    print(b)\n",
    "except:\n",
    "    print(\"There is some error\")"
   ]
  },
  {
   "cell_type": "markdown",
   "id": "a7205ee4",
   "metadata": {},
   "source": [
    "#### Understanding Exceptions\n",
    "\n",
    "Exception handling in Python allows you to handle errors gracefully and take corrective actions without stopping the execution of the program."
   ]
  },
  {
   "cell_type": "code",
   "execution_count": 10,
   "id": "08ece1fc",
   "metadata": {},
   "outputs": [
    {
     "name": "stdout",
     "output_type": "stream",
     "text": [
      "division by zero\n",
      "Cannot divide by zero\n"
     ]
    }
   ],
   "source": [
    "n1 = int(input(\"Enter the first number\"))\n",
    "n2 = int(input(\"Enter the second number\"))\n",
    "\n",
    "try:\n",
    "    print(n1/n2)\n",
    "except ZeroDivisionError as e :\n",
    "    print(e)\n",
    "    print(\"Cannot divide by zero\")\n"
   ]
  },
  {
   "cell_type": "code",
   "execution_count": 9,
   "id": "98eb1d84",
   "metadata": {},
   "outputs": [
    {
     "ename": "ZeroDivisionError",
     "evalue": "division by zero",
     "output_type": "error",
     "traceback": [
      "\u001b[31m---------------------------------------------------------------------------\u001b[39m",
      "\u001b[31mZeroDivisionError\u001b[39m                         Traceback (most recent call last)",
      "\u001b[36mCell\u001b[39m\u001b[36m \u001b[39m\u001b[32mIn[9]\u001b[39m\u001b[32m, line 1\u001b[39m\n\u001b[32m----> \u001b[39m\u001b[32m1\u001b[39m \u001b[32;43m1\u001b[39;49m\u001b[43m/\u001b[49m\u001b[32;43m0\u001b[39;49m\n",
      "\u001b[31mZeroDivisionError\u001b[39m: division by zero"
     ]
    }
   ],
   "source": [
    "1/0"
   ]
  },
  {
   "cell_type": "markdown",
   "id": "169122de",
   "metadata": {},
   "source": [
    "##### What Are Exceptions?\n",
    "Exceptions are events that disrupt the normal flow of a program. They occur when an error is encountered during program execution. Common exceptions include:\n",
    "\n",
    "- ZeroDivisionError: Dividing by zero.\n",
    "- FileNotFoundError: File not found.\n",
    "- ValueError: Invalid value.\n",
    "- TypeError: Invalid type."
   ]
  },
  {
   "cell_type": "code",
   "execution_count": null,
   "id": "ba569030",
   "metadata": {},
   "outputs": [],
   "source": []
  },
  {
   "cell_type": "code",
   "execution_count": null,
   "id": "b97231c6",
   "metadata": {},
   "outputs": [
    {
     "name": "stdout",
     "output_type": "stream",
     "text": [
      "This is not a valid number\n"
     ]
    }
   ],
   "source": [
    "num = 10\n",
    "\n",
    "try:\n",
    "    den = int(input(\"Enter the denominator: \"))\n",
    "    result = num/den\n",
    "    print(result)\n",
    "except ValueError:\n",
    "    print(\"This is not a valid number\")\n",
    "except ZeroDivisionError:\n",
    "    print(\"Cannot divide by zero, den must be greater than 0\")\n",
    "except Exception as e:\n",
    "    print(e)"
   ]
  },
  {
   "cell_type": "code",
   "execution_count": null,
   "id": "f1135fc8",
   "metadata": {},
   "outputs": [],
   "source": []
  },
  {
   "cell_type": "markdown",
   "id": "dd5b0d53",
   "metadata": {},
   "source": [
    "- The `try` block lets you test a block of code for errors.\n",
    "\n",
    "- The `except` block lets you handle the error.\n",
    "\n",
    "- The `else` block lets you execute code when there is no error.\n",
    "\n",
    "- The `finally` block lets you execute code, regardless of the result of the try- and except blocks.\n",
    "\n"
   ]
  },
  {
   "cell_type": "code",
   "execution_count": 21,
   "id": "a8e44af6",
   "metadata": {},
   "outputs": [
    {
     "name": "stdout",
     "output_type": "stream",
     "text": [
      "Something went wrong\n"
     ]
    }
   ],
   "source": [
    "try:\n",
    "    print(i)\n",
    "except:\n",
    "    print(\"Something went wrong\")\n",
    "else:\n",
    "    print(\"Nothing went wrong\")"
   ]
  },
  {
   "cell_type": "code",
   "execution_count": 22,
   "id": "453c46e0",
   "metadata": {},
   "outputs": [
    {
     "name": "stdout",
     "output_type": "stream",
     "text": [
      "Something went wrong\n",
      "always executed !\n"
     ]
    }
   ],
   "source": [
    "try:\n",
    "    print(i)\n",
    "except:\n",
    "    print(\"Something went wrong\")\n",
    "else:\n",
    "    print(\"Nothing went wrong\")\n",
    "\n",
    "finally:\n",
    "    print(\"always executed !\")"
   ]
  },
  {
   "cell_type": "code",
   "execution_count": 23,
   "id": "5bf775d1",
   "metadata": {},
   "outputs": [
    {
     "name": "stdout",
     "output_type": "stream",
     "text": [
      "Not able to connect to the database\n",
      "connection is closed\n"
     ]
    }
   ],
   "source": [
    "try:\n",
    "    connection = connect_to_db()\n",
    "    connection.query(\"show databases\")\n",
    "\n",
    "except Exception as e:\n",
    "    print(\"Not able to connect to the database\")\n",
    "\n",
    "finally:\n",
    "    print(\"connection is closed\")\n"
   ]
  },
  {
   "cell_type": "code",
   "execution_count": 24,
   "id": "bda2cc0f",
   "metadata": {},
   "outputs": [
    {
     "name": "stdout",
     "output_type": "stream",
     "text": [
      "Something went wrong when opening the file\n"
     ]
    }
   ],
   "source": [
    "try:\n",
    "  f = open(\"demofile.txt\")\n",
    "  try:\n",
    "    f.write(\"Lorum Ipsum\")\n",
    "  except:\n",
    "    print(\"Something went wrong when writing to the file\")\n",
    "  finally:\n",
    "    f.close()\n",
    "except:\n",
    "  print(\"Something went wrong when opening the file\")"
   ]
  },
  {
   "cell_type": "code",
   "execution_count": 27,
   "id": "ae4d2eba",
   "metadata": {},
   "outputs": [
    {
     "name": "stdout",
     "output_type": "stream",
     "text": [
      "[Errno 2] No such file or directory: 'demofile.txt'\n",
      "...\n"
     ]
    }
   ],
   "source": [
    "try:\n",
    "    f = open(\"demofile.txt\")\n",
    "except Exception as e:\n",
    "    print(e)\n",
    "finally:\n",
    "    print(\"...\")"
   ]
  },
  {
   "cell_type": "code",
   "execution_count": null,
   "id": "ba0e1e26",
   "metadata": {},
   "outputs": [
    {
     "ename": "Exception",
     "evalue": "No numbers below zero",
     "output_type": "error",
     "traceback": [
      "\u001b[31m---------------------------------------------------------------------------\u001b[39m",
      "\u001b[31mException\u001b[39m                                 Traceback (most recent call last)",
      "\u001b[36mCell\u001b[39m\u001b[36m \u001b[39m\u001b[32mIn[28]\u001b[39m\u001b[32m, line 4\u001b[39m\n\u001b[32m      1\u001b[39m x = -\u001b[32m5\u001b[39m\n\u001b[32m      3\u001b[39m \u001b[38;5;28;01mif\u001b[39;00m x <\u001b[32m0\u001b[39m:\n\u001b[32m----> \u001b[39m\u001b[32m4\u001b[39m     \u001b[38;5;28;01mraise\u001b[39;00m \u001b[38;5;167;01mException\u001b[39;00m(\u001b[33m\"\u001b[39m\u001b[33mNo numbers below zero\u001b[39m\u001b[33m\"\u001b[39m)\n",
      "\u001b[31mException\u001b[39m: No numbers below zero"
     ]
    }
   ],
   "source": [
    "x = -5\n",
    "\n",
    "if x < 0:\n",
    "    raise Exception(\"No numbers below zero\")"
   ]
  },
  {
   "cell_type": "code",
   "execution_count": null,
   "id": "82230593",
   "metadata": {},
   "outputs": [
    {
     "name": "stdout",
     "output_type": "stream",
     "text": [
      "Calculated age is:  25\n",
      "Age 25 is valid. You can apply for the exam.\n"
     ]
    }
   ],
   "source": [
    "class AgeValidationError(Exception):\n",
    "    pass\n",
    "\n",
    "class TooYoungError(AgeValidationError):\n",
    "    pass\n",
    "\n",
    "class TooOldError(AgeValidationError):\n",
    "    pass\n",
    "\n",
    "\n",
    "def check_exam_eligibility():\n",
    "    try:\n",
    "        year = int(input(\"Enter your year of birth: \"))\n",
    "        age = 2025 - year\n",
    "\n",
    "        print(\"Calculated age is: \", age)\n",
    "\n",
    "        if age < 20:\n",
    "            raise TooYoungError(f\"Age {age} is too young. Minimum age is 20.\")\n",
    "        elif age >30:\n",
    "            raise TooOldError(f\"Age {age} is too Old. Maximum age is 30.\")\n",
    "        else:\n",
    "            print(f\"Age {age} is valid. You can apply for the exam.\")\n",
    "\n",
    "    except TooYoungError as e:\n",
    "        print(\"Sorry\", e)\n",
    "    except TooOldError as e:\n",
    "        print(\"Sorry\", e)\n",
    "\n",
    "    except ValueError:\n",
    "        print(\"Enter a valid year of birth.\")\n",
    "\n",
    "check_exam_eligibility()\n",
    "\n",
    "\n"
   ]
  },
  {
   "cell_type": "markdown",
   "id": "2a375979",
   "metadata": {},
   "source": [
    "---"
   ]
  },
  {
   "cell_type": "code",
   "execution_count": 35,
   "id": "248801cd",
   "metadata": {},
   "outputs": [],
   "source": [
    "from collections import namedtuple"
   ]
  },
  {
   "cell_type": "code",
   "execution_count": null,
   "id": "6c0582ea",
   "metadata": {},
   "outputs": [],
   "source": [
    "EmployeeRecord = namedtuple('EmployeeRecord', 'name, age, title, department, paygrade')\n",
    "\n",
    "import csv\n",
    "for emp in map(EmployeeRecord._make, csv.reader(open(\"employees.csv\", \"rb\"))):\n",
    "    print(emp.name, emp.title)\n",
    "\n",
    "import sqlite3\n",
    "conn = sqlite3.connect('/companydata')\n",
    "cursor = conn.cursor()\n",
    "cursor.execute('SELECT name, age, title, department, paygrade FROM employees')\n",
    "for emp in map(EmployeeRecord._make, cursor.fetchall()):\n",
    "    print(emp.name, emp.title)"
   ]
  },
  {
   "cell_type": "code",
   "execution_count": 42,
   "id": "b4dc4cb8",
   "metadata": {},
   "outputs": [
    {
     "data": {
      "text/plain": [
       "Point(x=11, y=22)"
      ]
     },
     "execution_count": 42,
     "metadata": {},
     "output_type": "execute_result"
    }
   ],
   "source": [
    "# Basic example\n",
    "Point = namedtuple('Point', ['x', 'y'])\n",
    "p = Point(11, y=22)     # instantiate with positional or keyword arguments\n",
    "p[0] + p[1]             # indexable like the plain tuple (11, 22)\n",
    "\n",
    "x, y = p                # unpack like a regular tuple\n",
    "x, y\n",
    "\n",
    "p.x + p.y               # fields also accessible by name\n",
    "\n",
    "p                       # readable __repr__ with a name=value style"
   ]
  },
  {
   "cell_type": "code",
   "execution_count": 43,
   "id": "6d0455b1",
   "metadata": {},
   "outputs": [
    {
     "data": {
      "text/plain": [
       "__main__.Point"
      ]
     },
     "execution_count": 43,
     "metadata": {},
     "output_type": "execute_result"
    }
   ],
   "source": [
    "type(p)"
   ]
  },
  {
   "cell_type": "code",
   "execution_count": null,
   "id": "05c312b2",
   "metadata": {},
   "outputs": [],
   "source": []
  }
 ],
 "metadata": {
  "kernelspec": {
   "display_name": "Python 3",
   "language": "python",
   "name": "python3"
  },
  "language_info": {
   "codemirror_mode": {
    "name": "ipython",
    "version": 3
   },
   "file_extension": ".py",
   "mimetype": "text/x-python",
   "name": "python",
   "nbconvert_exporter": "python",
   "pygments_lexer": "ipython3",
   "version": "3.11.11"
  }
 },
 "nbformat": 4,
 "nbformat_minor": 5
}
