{
 "cells": [
  {
   "cell_type": "code",
   "execution_count": 29,
   "id": "7e39c933",
   "metadata": {},
   "outputs": [
    {
     "data": {
      "text/plain": [
       "'c:\\\\development\\\\PythonTraining'"
      ]
     },
     "execution_count": 29,
     "metadata": {},
     "output_type": "execute_result"
    }
   ],
   "source": [
    "import os\n",
    "\n",
    "cwd = os.getcwd()\n",
    "cwd"
   ]
  },
  {
   "cell_type": "code",
   "execution_count": 30,
   "id": "3845ff92",
   "metadata": {},
   "outputs": [],
   "source": [
    "os.mkdir(\"utils\")"
   ]
  },
  {
   "cell_type": "code",
   "execution_count": null,
   "id": "323c6e4d",
   "metadata": {},
   "outputs": [
    {
     "data": {
      "text/plain": [
       "['05_python_file_handling.ipynb',\n",
       " 'assets',\n",
       " 'data',\n",
       " 'log.txt',\n",
       " 'output.txt',\n",
       " 'README',\n",
       " 'utils']"
      ]
     },
     "execution_count": 31,
     "metadata": {},
     "output_type": "execute_result"
    }
   ],
   "source": [
    "# list the files and dirs\n",
    "os.listdir('.')"
   ]
  },
  {
   "cell_type": "code",
   "execution_count": null,
   "id": "d9e8d58b",
   "metadata": {},
   "outputs": [],
   "source": [
    "## absolute path\n",
    "## relative path"
   ]
  },
  {
   "cell_type": "markdown",
   "id": "2e89cd0e",
   "metadata": {},
   "source": [
    "### File System Basics\n",
    "\n",
    "Files are stored in a hierarchical structure with:\n",
    "\n",
    "- **Absolute paths**: Complete path from root directory (`/home/user/file.txt` or `C:\\Users\\file.txt`)\n",
    "- **Relative paths**: Path relative to current working directory (`./file.txt` or `../data/file.txt`)"
   ]
  },
  {
   "cell_type": "code",
   "execution_count": null,
   "id": "617e8a3d",
   "metadata": {},
   "outputs": [],
   "source": [
    "# basic file operations\n",
    "# open() function is the primary way to open files\n",
    "\n",
    "# file_object = open(filename, mode)"
   ]
  },
  {
   "cell_type": "code",
   "execution_count": 7,
   "id": "c0c36e02",
   "metadata": {},
   "outputs": [
    {
     "name": "stdout",
     "output_type": "stream",
     "text": [
      "content:  File handling is an important part of any web application.\n",
      "Python has several functions for creating, reading, updating, and deleting files.\n",
      "data/example.txt\n",
      "r\n",
      "False\n",
      "True\n",
      "False\n"
     ]
    }
   ],
   "source": [
    "file = open('data/example.txt', mode='r')\n",
    "content = file.read()\n",
    "print('content: ',  content)\n",
    "\n",
    "print(file.name)\n",
    "print(file.mode)\n",
    "print(file.closed)\n",
    "print(file.readable())\n",
    "print(file.writable())\n",
    "\n",
    "\n",
    "file.close()\n",
    "\n"
   ]
  },
  {
   "cell_type": "markdown",
   "id": "6c81437d",
   "metadata": {},
   "source": [
    "\n",
    "## 3. File Modes\n",
    "\n",
    "File modes determine how the file is opened and what operations are allowed:\n",
    "\n",
    "### Text Modes\n",
    "\n",
    "|Mode|Description|File Position|Truncates|\n",
    "|---|---|---|---|\n",
    "|`'r'`|Read only (default)|Beginning|No|\n",
    "|`'w'`|Write only|Beginning|Yes|\n",
    "|`'a'`|Append only|End|No|\n",
    "|`'r+'`|Read and write|Beginning|No|\n",
    "|`'w+'`|Read and write|Beginning|Yes|\n",
    "|`'a+'`|Read and append|End|No|\n",
    "\n",
    "\n",
    "---\n",
    "### Binary Modes\n",
    "\n",
    "Add `'b'` to any mode for binary operations:\n",
    "\n",
    "- `'rb'` - Read binary\n",
    "- `'wb'` - Write binary\n",
    "- `'ab'` - Append binary\n",
    "- `'rb+'` - Read and write binary\n"
   ]
  },
  {
   "cell_type": "code",
   "execution_count": 8,
   "id": "d6e8d7ad",
   "metadata": {},
   "outputs": [
    {
     "name": "stdout",
     "output_type": "stream",
     "text": [
      "File handling is an important part of any web application.\n",
      "Python has several functions for creating, reading, updating, and deleting files.\n"
     ]
    }
   ],
   "source": [
    "# context managers\n",
    "with open('data/example.txt') as f:\n",
    "    content = f.read()\n",
    "\n",
    "print(content)\n"
   ]
  },
  {
   "cell_type": "code",
   "execution_count": null,
   "id": "fb3d459d",
   "metadata": {},
   "outputs": [
    {
     "name": "stdout",
     "output_type": "stream",
     "text": [
      "content\n"
     ]
    }
   ],
   "source": [
    "with open('assets\\static\\images\\Anne_H.png', 'rb') as f:\n",
    "    content = f.read()\n",
    "\n",
    "print(content)"
   ]
  },
  {
   "cell_type": "code",
   "execution_count": 12,
   "id": "157e1922",
   "metadata": {},
   "outputs": [],
   "source": [
    "with open('output.txt', 'w') as f:\n",
    "    f.write('new information')"
   ]
  },
  {
   "cell_type": "code",
   "execution_count": null,
   "id": "93b50bff",
   "metadata": {},
   "outputs": [],
   "source": [
    "with open('log.txt', 'a') as f:\n",
    "    f.write('Log 6\\n')"
   ]
  },
  {
   "cell_type": "code",
   "execution_count": 21,
   "id": "fd4f0ab9",
   "metadata": {},
   "outputs": [
    {
     "name": "stdout",
     "output_type": "stream",
     "text": [
      "File handling is an important part of any web application.\n",
      "Python has several functions for creating, reading, updating, and deleting files.\n"
     ]
    }
   ],
   "source": [
    "# Reading entire file\n",
    "\n",
    "## 1 read() -> entire file as string\n",
    "with open('data/example.txt', 'r') as f:\n",
    "    content = f.read()\n",
    "    print(content)\n"
   ]
  },
  {
   "cell_type": "code",
   "execution_count": null,
   "id": "e89357b0",
   "metadata": {},
   "outputs": [
    {
     "name": "stdout",
     "output_type": "stream",
     "text": [
      "File handling is an important part of any web application.\n",
      "\n",
      "Python has several functions for creating, reading, updating, and deleting files.\n"
     ]
    }
   ],
   "source": [
    "## 2 readlines() -> list of lines\n",
    "with open('data/example.txt', 'r') as f:\n",
    "    lines = f.readlines()\n",
    "    for line in lines:\n",
    "        print(line)"
   ]
  },
  {
   "cell_type": "code",
   "execution_count": 25,
   "id": "da0b21b8",
   "metadata": {},
   "outputs": [
    {
     "name": "stdout",
     "output_type": "stream",
     "text": [
      "File handling is an important part of any web application.\n",
      "\n"
     ]
    }
   ],
   "source": [
    "## Reading first line\n",
    "with open('data/example.txt', 'r') as f:\n",
    "    line = f.readline()\n",
    "    print(line)"
   ]
  },
  {
   "cell_type": "code",
   "execution_count": 26,
   "id": "0481b412",
   "metadata": {},
   "outputs": [
    {
     "name": "stdout",
     "output_type": "stream",
     "text": [
      "File handling is an important part of any web application.\n",
      "Python has several functions for creating, reading, updating, and deleting files.\n"
     ]
    }
   ],
   "source": [
    "## Reading line by line\n",
    "with open('data/example.txt', 'r') as f:\n",
    "    while True:\n",
    "        line = f.readline()\n",
    "        if not line:\n",
    "            break\n",
    "        print(line.strip())\n"
   ]
  },
  {
   "cell_type": "code",
   "execution_count": null,
   "id": "ac952890",
   "metadata": {},
   "outputs": [
    {
     "name": "stdout",
     "output_type": "stream",
     "text": [
      "File handl\n"
     ]
    }
   ],
   "source": [
    "# specific number of characters\n",
    "with open('data/example.txt', 'r') as f:\n",
    "    chunk = f.read(10)\n",
    "    print(chunk)"
   ]
  },
  {
   "cell_type": "code",
   "execution_count": null,
   "id": "b6bf0bfe",
   "metadata": {},
   "outputs": [],
   "source": [
    "# TASK: seek...\n",
    "\n"
   ]
  },
  {
   "cell_type": "code",
   "execution_count": 28,
   "id": "8978f9ee",
   "metadata": {},
   "outputs": [
    {
     "name": "stdout",
     "output_type": "stream",
     "text": [
      "File handling is an important part of any web application.\n",
      "Pytho\n",
      "64\n",
      "n has several functions for creating, reading, updating, and del\n",
      "64\n",
      "eting files.\n",
      "12\n"
     ]
    }
   ],
   "source": [
    "# read in chunks (useful for large files)\n",
    "\n",
    "with open('data/example.txt', 'r') as f:\n",
    "    while True:\n",
    "        chunk = f.read(64)\n",
    "        if not chunk:\n",
    "            break\n",
    "        print(chunk)\n",
    "        print(len(chunk))"
   ]
  },
  {
   "cell_type": "markdown",
   "id": "3cdd9266",
   "metadata": {},
   "source": [
    "## Context Managers (with statement)\n",
    "\n",
    "### Why Use Context Managers?\n",
    "\n",
    "- **Automatic cleanup**: Files are automatically closed\n",
    "- **Exception safety**: Files are closed even if an exception occurs\n",
    "- **Clean code**: No need to remember to call close()"
   ]
  },
  {
   "cell_type": "code",
   "execution_count": null,
   "id": "d250514d",
   "metadata": {},
   "outputs": [],
   "source": [
    "\n",
    "# Without context manager (not recommended)\n",
    "file = open('data.txt', 'r')\n",
    "try:\n",
    "    content = file.read()\n",
    "    # ... process content\n",
    "finally:\n",
    "    file.close()\n",
    "\n",
    "\n",
    "# With context manager (recommended)\n",
    "with open('data.txt', 'r') as file:\n",
    "    content = file.read()\n",
    "    # ... process content\n",
    "# File is automatically closed here\n",
    "\n"
   ]
  }
 ],
 "metadata": {
  "kernelspec": {
   "display_name": "Python 3",
   "language": "python",
   "name": "python3"
  },
  "language_info": {
   "codemirror_mode": {
    "name": "ipython",
    "version": 3
   },
   "file_extension": ".py",
   "mimetype": "text/x-python",
   "name": "python",
   "nbconvert_exporter": "python",
   "pygments_lexer": "ipython3",
   "version": "3.11.11"
  }
 },
 "nbformat": 4,
 "nbformat_minor": 5
}
